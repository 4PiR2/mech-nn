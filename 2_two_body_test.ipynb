{
 "cells": [
  {
   "cell_type": "code",
   "execution_count": 1,
   "id": "68caa357-9f45-4ad9-9f93-08e052a99a3b",
   "metadata": {
    "tags": []
   },
   "outputs": [
    {
     "name": "stdout",
     "output_type": "stream",
     "text": [
      "run, logs/2, 2\n"
     ]
    },
    {
     "name": "stderr",
     "output_type": "stream",
     "text": [
      "/nfs/scistore19/alistgrp/jiachen/miniconda3/envs/lpode/lib/python3.8/site-packages/lightning_fabric/plugins/environments/slurm.py:165: PossibleUserWarning: The `srun` command is available on your system but is not used. HINT: If your intention is to run Lightning on SLURM, prepend your python command with `srun` like so: srun python /nfs/scistore19/alistgrp/jiachen/miniconda3/envs/lpo ...\n",
      "  rank_zero_warn(\n",
      "GPU available: True (cuda), used: True\n",
      "TPU available: False, using: 0 TPU cores\n",
      "IPU available: False, using: 0 IPUs\n",
      "HPU available: False, using: 0 HPUs\n",
      "/nfs/scistore19/alistgrp/jiachen/miniconda3/envs/lpode/lib/python3.8/site-packages/pytorch_lightning/trainer/connectors/logger_connector/logger_connector.py:67: UserWarning: Starting from v1.9.0, `tensorboardX` has been removed as a dependency of the `pytorch_lightning` package, due to potential conflicts with other packages in the ML ecosystem. For this reason, `logger=True` will use `CSVLogger` as the default logger, unless the `tensorboard` or `tensorboardX` packages are found. Please `pip install lightning[extra]` or one of them to enable TensorBoard support by default\n",
      "  warning_cache.warn(\n"
     ]
    }
   ],
   "source": [
    "import sys\n",
    "\n",
    "import torch\n",
    "import numpy as np\n",
    "import mediapy as mp\n",
    "from torch.utils.data import DataLoader, random_split\n",
    "from torchvision import transforms\n",
    "from torch.nn import functional as F\n",
    "import nbody.two_body_multi_sparse_sys as model\n",
    "\n",
    "import matplotlib.pyplot as plt\n",
    "\n",
    "%matplotlib inline\n",
    "from IPython.display import HTML\n",
    "\n",
    "from matplotlib.animation import FuncAnimation\n",
    "\n",
    "torch.set_printoptions(precision=4, linewidth=500, sci_mode=True)"
   ]
  },
  {
   "cell_type": "markdown",
   "id": "43cc7816-dba9-4147-9103-c4d3f81242dd",
   "metadata": {},
   "source": [
    "## Model\n",
    "The model learns trajectories of two particles under a gravitational force.\n",
    "The model learns and solves a second order ODE with time varying coefficients parameterized by MLPs.\n",
    "$$ c_2(t;x) u'' + c_1(t;x) u' + c_0(t;x) u = b(t;x) $$\n",
    "The neural network takes as input, $x$, 50-step positions and outputs an ODE for the next 50 steps. The input steps are also used as (over determined) initial conditions.\n",
    "For inference, we start a given state (50 steps) and generate autoregressively.\n",
    "\n",
    "Training and evaluation trajectories have 2000 steps each."
   ]
  },
  {
   "cell_type": "code",
   "execution_count": 2,
   "id": "c262bcea-b36c-4b10-a558-fb07119c2c70",
   "metadata": {},
   "outputs": [],
   "source": [
    "batch_size=30\n",
    "#Double precision solving. Single precision is faster but solving can lead to NaN's. Lower learning rate for single precision.\n",
    "solver_dbl=True \n",
    "learning_rate=0.0001\n",
    "\n",
    "method, datamodule = model.build_model(batch_size, solver_dbl, learning_rate)"
   ]
  },
  {
   "cell_type": "markdown",
   "id": "23e26ee5-d8bd-4924-b203-b6a7e8b61d27",
   "metadata": {},
   "source": [
    "## Visualize Training Trajectory"
   ]
  },
  {
   "cell_type": "code",
   "execution_count": 3,
   "id": "d781d47a-0bac-4906-bbf8-3af27766afa3",
   "metadata": {},
   "outputs": [
    {
     "data": {
      "image/png": "[encoded data removed]",
      "text/plain": [
       "<Figure size 640x480 with 1 Axes>"
      ]
     },
     "metadata": {},
     "output_type": "display_data"
    }
   ],
   "source": [
    "\n",
    "train_positions = datamodule.train_dataset.positions.cpu().numpy()\n",
    "def plot_training(positions):\n",
    "    ax = plt.subplot(1,1,1)\n",
    "    #ax2 = plt.subplot(1,2,2)\n",
    "    nstep=2000\n",
    "    nbodies = positions.shape[1]\n",
    "    \n",
    "    for i in range(nbodies):\n",
    "        ax.plot(positions[:nstep,i,0], positions[:nstep,i,1], label='Training {i}')\n",
    "    ax.axis('off')\n",
    "\n",
    "plot_training(train_positions.squeeze())"
   ]
  },
  {
   "cell_type": "code",
   "execution_count": 4,
   "id": "87ef45f9-c6af-4d85-95f3-1aef7483e7ba",
   "metadata": {
    "tags": []
   },
   "outputs": [
    {
     "name": "stderr",
     "output_type": "stream",
     "text": [
      "/nfs/scistore19/alistgrp/jiachen/miniconda3/envs/lpode/lib/python3.8/site-packages/lightning_fabric/plugins/environments/slurm.py:165: PossibleUserWarning: The `srun` command is available on your system but is not used. HINT: If your intention is to run Lightning on SLURM, prepend your python command with `srun` like so: srun python /nfs/scistore19/alistgrp/jiachen/miniconda3/envs/lpo ...\n",
      "  rank_zero_warn(\n",
      "LOCAL_RANK: 0 - CUDA_VISIBLE_DEVICES: [0,1]\n",
      "\n",
      "  | Name  | Type     | Params\n",
      "-----------------------------------\n",
      "0 | model | EPHModel | 9.8 M \n",
      "-----------------------------------\n",
      "9.8 M     Trainable params\n",
      "0         Non-trainable params\n",
      "9.8 M     Total params\n",
      "39.023    Total estimated model params size (MB)\n"
     ]
    },
    {
     "data": {
      "application/vnd.jupyter.widget-view+json": {
       "model_id": "",
       "version_major": 2,
       "version_minor": 0
      },
      "text/plain": [
       "Sanity Checking: 0it [00:00, ?it/s]"
      ]
     },
     "metadata": {},
     "output_type": "display_data"
    },
    {
     "name": "stderr",
     "output_type": "stream",
     "text": [
      "/nfs/scistore19/alistgrp/jiachen/miniconda3/envs/lpode/lib/python3.8/site-packages/pytorch_lightning/trainer/connectors/data_connector.py:430: PossibleUserWarning: The dataloader, val_dataloader, does not have many workers which may be a bottleneck. Consider increasing the value of the `num_workers` argument` (try 40 which is the number of cpus on this machine) in the `DataLoader` init to improve performance.\n",
      "  rank_zero_warn(\n",
      "/nfs/scistore19/alistgrp/jiachen/miniconda3/envs/lpode/lib/python3.8/site-packages/pytorch_lightning/loops/fit_loop.py:280: PossibleUserWarning: The number of training batches (63) is smaller than the logging interval Trainer(log_every_n_steps=500). Set a lower value for log_every_n_steps if you want to see logs for the training epoch.\n",
      "  rank_zero_warn(\n"
     ]
    },
    {
     "data": {
      "application/vnd.jupyter.widget-view+json": {
       "model_id": "29ce64d89c1546c4bb48d8b42aa775aa",
       "version_major": 2,
       "version_minor": 0
      },
      "text/plain": [
       "Training: 0it [00:00, ?it/s]"
      ]
     },
     "metadata": {},
     "output_type": "display_data"
    },
    {
     "name": "stderr",
     "output_type": "stream",
     "text": [
      "`Trainer.fit` stopped: `max_epochs=50` reached.\n"
     ]
    }
   ],
   "source": [
    "model.train(method, datamodule)"
   ]
  },
  {
   "cell_type": "code",
   "execution_count": 11,
   "id": "8e5b3011-a77a-4a55-8178-4a9fa238a924",
   "metadata": {
    "tags": []
   },
   "outputs": [
    {
     "name": "stdout",
     "output_type": "stream",
     "text": [
      "torch.Size([2000, 1, 2, 2])\n"
     ]
    },
    {
     "data": {
      "text/plain": [
       "(2000, 2, 2)"
      ]
     },
     "execution_count": 11,
     "metadata": {},
     "output_type": "execute_result"
    }
   ],
   "source": [
    "idx =0\n",
    "device='cuda'\n",
    "NS=50\n",
    "@torch.no_grad()\n",
    "def run_inference(method, x,v,idx, steps):\n",
    "    method.to(device)\n",
    "    positions = []\n",
    "    velocities = []\n",
    "    accs = []\n",
    "    forces = []\n",
    "    coeffs_list = []\n",
    "    for step in range(steps):\n",
    "        x = x.to(device)\n",
    "        v = v.to(device)\n",
    "        \n",
    "        x_out, v_out = method.inference((x,v))\n",
    "        \n",
    "        x = x_out[:,10:NS+10,:,:]\n",
    "        v = v_out[:,10:NS+10,:,:]\n",
    "        \n",
    "        x_out = x_out.squeeze()\n",
    "        v_out = v_out.squeeze()\n",
    "        \n",
    "        x_out = x_out[0,NS:NS+10].squeeze(0).cpu().numpy()\n",
    "        v_out = v_out[0,NS:NS+10].squeeze(0).cpu().numpy()\n",
    "        \n",
    "        positions.append(x_out)\n",
    "        velocities.append(v_out)\n",
    "    positions = np.vstack(positions)\n",
    "    velocities = np.vstack(velocities)\n",
    "    \n",
    "    return positions, velocities\n",
    "\n",
    "x = datamodule.val_dataset.positions\n",
    "v = datamodule.val_dataset.velocities\n",
    "\n",
    "print(x.shape)\n",
    "#Batch size is fixed beforehand. TODO: fix.\n",
    "#Predict starting from 50 initial steps\n",
    "initial_x = x[idx:NS,:,:, :].unsqueeze(0).repeat(batch_size,1,1,1,1)\n",
    "initial_v = v[idx:NS,:,: :].unsqueeze(0).repeat(batch_size,1,1,1,1)\n",
    "#Generates 2000 steps\n",
    "positions, velocities = run_inference(method.double(), initial_x.double(), initial_v.double(),idx, steps=200)\n",
    "\n",
    "positions.shape"
   ]
  },
  {
   "cell_type": "code",
   "execution_count": 12,
   "id": "bcc189ac-2e48-4a84-a600-ce7266ce0410",
   "metadata": {
    "tags": []
   },
   "outputs": [],
   "source": [
    "val_positions = datamodule.val_dataset.positions.cpu().numpy()\n",
    "val_positions.shape\n",
    "\n",
    "positions= positions.squeeze()\n",
    "val_positions = val_positions.squeeze()"
   ]
  },
  {
   "cell_type": "markdown",
   "id": "fa90d1f6-05f4-473e-9434-da6dfc4c3b66",
   "metadata": {},
   "source": [
    "## Plot and Animate Predictions"
   ]
  },
  {
   "cell_type": "code",
   "execution_count": 13,
   "id": "846dcea1-2b49-4b98-9e9d-62893adaa029",
   "metadata": {
    "tags": []
   },
   "outputs": [
    {
     "name": "stdout",
     "output_type": "stream",
     "text": [
      "fig\n"
     ]
    },
    {
     "data": {
      "image/png": "[encoded data removed]",
      "text/plain": [
       "<Figure size 640x480 with 1 Axes>"
      ]
     },
     "metadata": {},
     "output_type": "display_data"
    }
   ],
   "source": [
    "ax = plt.subplot(1,1,1)\n",
    "#ax2 = plt.subplot(1,2,2)\n",
    "nstep=2000\n",
    "nbodies = positions.shape[1]\n",
    "\n",
    "for i in range(nbodies):\n",
    "#for i in range(4,5):\n",
    "    ax.plot(positions[:nstep,i,0], positions[:nstep,i,1], label='pred {i}')\n",
    "    ax.plot(val_positions[NS:nstep,i,0], val_positions[NS:nstep,i,1], linestyle='--', label='Object {i}')\n",
    "\n",
    "ax.axis('off')\n",
    "print('fig')"
   ]
  },
  {
   "cell_type": "code",
   "execution_count": 14,
   "id": "b800e469-c5f0-4ad8-ab7a-d0f94fb85f03",
   "metadata": {
    "tags": []
   },
   "outputs": [
    {
     "name": "stdout",
     "output_type": "stream",
     "text": [
      "Animation.save using <class 'matplotlib.animation.FFMpegWriter'>\n",
      "MovieWriter._run: running command: ffmpeg -f rawvideo -vcodec rawvideo -s 640x480 -pix_fmt rgba -r 50.0 -loglevel error -i pipe: -vcodec h264 -pix_fmt yuv420p -y /tmp/tmp4neg7j6i/temp.m4v\n"
     ]
    },
    {
     "data": {
      "text/html": [
       "<video width=\"640\" height=\"480\" controls autoplay loop>\n",
       "  <source type=\"video/mp4\" src=\"data:video/mp4;base64,AAAAIGZ0eXBNNFYgAAACAE00ViBpc29taXNvMmF2YzEAAAAIZnJlZQAAQfJtZGF0AAACrwYF//+r\n",
       "3EXpvebZSLeWLNgg2SPu73gyNjQgLSBjb3JlIDE2NCByMzA5NSBiYWVlNDAwIC0gSC4yNjQvTVBF\n",
       "Ry00IEFWQyBjb2RlYyAtIENvcHlsZWZ0IDIwMDMtMjAyMiAtIGh0dHA6Ly93d3cudmlkZW9sYW4u\n",
       "b3JnL3gyNjQuaHRtbCAtIG9wdGlvbnM6IGNhYmFjPTEgcmVmPTMgZGVibG9jaz0xOjA6MCBhbmFs\n",
       "eXNlPTB4MzoweDExMyBtZT1oZXggc3VibWU9NyBwc3k9MSBwc3lfcmQ9MS4wMDowLjAwIG1peGVk\n",
       "X3JlZj0xIG1lX3JhbmdlPTE2IGNocm9tYV9tZT0xIHRyZWxsaXM9MSA4eDhkY3Q9MSBjcW09MCBk\n",
       "ZWFkem9uZT0yMSwxMSBmYXN0X3Bza2lwPTEgY2hyb21hX3FwX29mZnNldD0tMiB0aHJlYWRzPTE1\n",
       "IGxvb2thaGVhZF90aHJlYWRzPTIgc2xpY2VkX3RocmVhZHM9MCBucj0wIGRlY2ltYXRlPTEgaW50\n",
       "ZXJsYWNlZD0wIGJsdXJheV9jb21wYXQ9MCBjb25zdHJhaW5lZF9pbnRyYT0wIGJmcmFtZXM9MyBi\n",
       "X3B5cmFtaWQ9MiBiX2FkYXB0PTEgYl9iaWFzPTAgZGlyZWN0PTEgd2VpZ2h0Yj0xIG9wZW5fZ29w\n",
       "PTAgd2VpZ2h0cD0yIGtleWludD0yNTAga2V5aW50X21pbj0yNSBzY2VuZWN1dD00MCBpbnRyYV9y\n",
       "ZWZyZXNoPTAgcmNfbG9va2FoZWFkPTQwIHJjPWNyZiBtYnRyZWU9MSBjcmY9MjMuMCBxY29tcD0w\n",
       "LjYwIHFwbWluPTAgcXBtYXg9NjkgcXBzdGVwPTQgaXBfcmF0aW89MS40MCBhcT0xOjEuMDAAgAAA\n",
       "DCtliIQAK//+9nN8CmtHM5UuBXb3ZqPl0JLl+xBg+tAAAAMAAAMAABAP0t71zGJb5SAAAAnYAmqE\n",
       "6/rXZ5gAbPzhJeXNaRETCDjZybMILJXkqN66FdACv+sQ5bS/cE1ZBwj13lsXBsr979KmQNjTyY/h\n",
       "TF7EykT3NaOsZZKLn9QU4QSoVKiXCvUsfcuxDAPsi6kD05L5VU5sHXI6P9PeYYzFBAvOtDBxU9SY\n",
       "BCZV8YP1qpr3ZtWFmbjZ+O6aVlBkmo3kH1XQpQwrg3FmVzYqmgv5sJB7ItSr9L1T+RagS/xsgh2E\n",
       "Tq15eqY1mt7JXZBtgWaiZ2UzjPYvwy/ojulKhz7ZFsdpAGjddbA4zPyRt2T8v94iSUhgir3YkpfS\n",
       "bWh8ivnN7fmxnAr5Py8oP8sdoDZWI6i8yrDowWUHGIVZt7LplzRaViDPQc9kNFACec+/L6/ASlGn\n",
       "QHArOIkRsQGlmrUOIRyFr/LqZ72Pw0e8jzyssqI1/wZNRdi9o8NcKdVfO/0sXq2R3Xod0boocTs4\n",
       "JuE8Z2Hr/xqxAdJCJwV/+YLCW6o+5GtiSLCifDQ2xRS2SwIklS1OHWL4I8R3LlgpCAA2dOo9ruNB\n",
       "fxk8r9wuX+LsbWB6d2odNNWOuYssBC0GzHzptulfZ/HgAAA25r0WYLf2TsPC85PUc/gUtKDpYIfK\n",
       "yUeqdB4QjHYNN2owJr2R3sjUEv2sOgVJuInk2Y6N3a94AnuuhociR1nKlmdex+A8AAnGh1euGIDp\n",
       "6p7RJt9YUBcPmhBqf+HVj52dGdw1DO6NmymN0OVcJ1xb3TW2SgcBum+nem6D55nVNZYkX8b52Rc/\n",
       "Qtw/ggX9uq7iOVrPaTLHKpRBMpdeaMttd1wLUovkFalkQPzFQe19PxwsDG2kr5yK+jVM19KQrJ7A\n",
       "T/xTlIwTBVWVQ7UMHK4YfCOVTAGxtufCuUbxF6QP7H4RsMHLzOzGbQxEI/X+jK3xNUjykusKaj/V\n",
       "sbGnY1tycLywgo0x/k/ZIH66biNfHBh4UyISHIDAAANPeMAF9hgYIMCKMkoauqKuT1OmM8kvoliT\n",
       "Y70SOwz5ECTziVLaATP4Gx4BA15bzjga0xtA8dmtVs+GUPLe8btAUHAyan+pedewE2Q6UBpv39aG\n",
       "ACoIVcHC5uyTzMZplGgOmRSoSn2VObUc9W0mnAPQeALixkIreRVGLHPKFJQPykrG69QujeiD375W\n",
       "7HkfHMjrETQf93FhlAyix/46e+lOWLaeaAADb6BCc+R78YbAHy98f257bp4liKc2eHU7O0fJy8Z+\n",
       "t27cxBJ1Uy5+XTcRRAyGOXUH7PAFoMs9OyHVFYwInCel6GgJSsZ2AajR/JBD5GRAGea1NfngDtgg\n",
       "dZ8HwtaGu9mtprLp5S7uLRlI7xns6Il/pyrtLvqHgaJHGH5Sbe8vQ9+FFbe5yP50OnSBVcmh6L/J\n",
       "AGKWk0KcMuPJDMbKwvLZlnebgjhndA2HOMHQf3YlOFjl5/GBGZSmlkrgCvT0bfV1JO4LiNb7k/yQ\n",
       "Bh3HUk7PeJYvnUKGjpgRNUMgqFa7LK7383gz308E3FhKeb7WzcXwWrkZG7ynXPWQ5DhbayNdGQFN\n",
       "//h807HEIkDRh8cASGkT/FrHaz106XhG8jjrh51/HajtdU3xcV1Mw74VWE8FmIJg0ANpVrUIgAAH\n",
       "EmOwAGrIBJswTLbqyQr6q4ywWdLswc7Wv7kA9EyoLM1VCNtmktqxi/43cpoIVZAcQZE7Pnlf5jx1\n",
       "KUW8z5tgL5V9iX+deqKLkLcOlDGYtDmmNZa1VG1W54ECgEAER4Su2atSxyCuZNzvQXCxRKZ85pRo\n",
       "vcRcG1qJ0WlvbZlohf+KHrsCGR+lZEFIF/cDpS/6Kzz9qHPZh8E+x5WPOnMC1eCeUcHJjXBXW3+N\n",
       "v/ulT41pW2OlkXxfSpGDH4YgMDU9G4FANnocIrv4njpA5gx0IgqDbkTo59AEaZ/zSIfOfa+mHeFU\n",
       "MVu5rPiqmklQAB0BLcAObECg6Av9Nt/9t49XuCZuX9VarNjPVRrC7hktiZAQOtgJivvg1Xlh7oHf\n",
       "xaZctNcYWkPdqCGAmwgSkJKeCI6h57wREuyLgWlx1A4VTgS++sJ/mSJyM5c8FU4LJ5sYrBAWFi0l\n",
       "+VWC75qj2bMSaI/4b/q6EfAqXr9hgEjfm7yWSxU1uony9cy0mU6s3iKdsYQhZkHRKeEeHd4Aynoe\n",
       "IssnFAGJvaR+KZB/woVVkaXOdjRFH4BwHwbNcqtYaAlwquMPSyKo/8LfmD5SRapux/FN8sn1ZylQ\n",
       "GhEmR6AzLRBJpCzrOiWRr6W7nqzA7kOL19JwoSyf96Ssb0chSzvwv2ebpY/UTUgpXS5xltNUIoua\n",
       "wmu7ZWJLVJt9KiSMNfRuyW5bj9rT+CbcnYcjz179SC7C7C73YkDJEay9V0IXipCZ8OPlbH/ZotOS\n",
       "gaNy7vwIoQhIGNpj0QXz9cAA/AD9bJwyRk+T7Je5f7dWRsdmJga1av3n/eRGma+hjaCvd2KGXD1q\n",
       "TgvWF5nZesMrNy5SY9CPy02Y/I5FjZz5quxUMJyPDYToQ8ww9xlXqghPKce9+xL/2GFDKL876itz\n",
       "h2jK2NI209AbIhaYTakR+qs39OEJXL4RNgSeO6NzanwNNYGDH4DMj2v+heNSsupz07l85J9wN6rJ\n",
       "sRBMF62Yi8p+R7Wjt0EveplY39K7asF1rB9ltQ7rqJx4BTcx4NkXSzfDJvJzC3mrW3f+5Car9k4B\n",
       "hmHoFYTq6S8eOCUbePvvHWG3A3AI82tV/CYRYEVL2wPuZCkSX2Jpw1s4cY2kOutdui5lpej79oYZ\n",
       "IJ+WgREIPuuZr+wwBI657b5MJAh0OwytoWzkqyGNRQTUsP/ORQlzU4/Q8/qAcYCo4v/htkDgfjKA\n",
       "wwBxi6scI66K7SneJPHL63aD+8qGHow8tTHk64l955Coc+RMKh2TQLiQqrP0sjqdeDTSJUnFOiFl\n",
       "1sWZRemYZLRxvT0Z0BysFjmCB7w3B2GMwl9UohFYVoX1B3z4wPJ24VSDJgJ0GOua0muOqvYMscr+\n",
       "3l0O2nGVMMTHuCiru+NH/sycWkp+oaojXS3inu5fuu/6wlx+30Q+cwfBfVuuS2teMJd1YyyXTYsE\n",
       "qyFkIMMMgP0PPuxJskQg+tz5C4XHXIiK8yom/aNBMSDvVGG0RgbxUrwy/1oZ3mIA/zC5pRR9Pqa1\n",
       "j4FXfUcxciaNeA83TsUUkxKgJIsrads4tbYBmlOq2r8Hbi5K0KWPmGIl+wPk35DCdSGUqyjrTKkg\n",
       "GmOiz9LoPqLA2q+CAcPVNaUcP/JS+t5UFOzlr19uzjOLMBOAwENC/4tvasHui0fIvmp2Ie4hcjJL\n",
       "mwEAlgNm1aQ7q5nkl+UVIN5U+9QO/aoJsBBmfVXGeaR2Ugx8Fb7X0OYi6nbwQwkczgc6Bg5F+Txd\n",
       "5Xrk2hZqChH50KLRUq1HDG2AIo34zXSYPbCSLc9aCMMLpZZjXV7PbpxaZVKo794hPIwg1zNbUOKF\n",
       "HmeuwrWSOlCxUFAXFYwJ/n7YqbJ/9ftCLqo1sEApmvtFhSvFmekCNzwiGi3IlT0dXRWshCA8QMhr\n",
       "RXukruMZApHTfT7eS9IsvmYDkrZ8pak8sEx8zciRyVqvsiUIjxKGOcWiT1kGJGaSTePUmAMEVSfJ\n",
       "nT6/oICzMyi6VY16D2IMMmrA66jDtaWNmY1qGu7KYv5IajZUsuWYYrHGHtDG5dTZB4inX9bxJ+n9\n",
       "MG60Y/q6Z+CpusBed7Vatq9ZZOPF+/SwpC7gZwSlWAeWwIE7QNop8fA3W3qR2RvxiNfkgx+1lDqu\n",
       "wrUonuEUZIW0KdBcs/PxA+ixbi4PuTS7aWAAqV2sIQyEO55Ef3/XZDhITB8kSmFi0DzzkuQhkDIu\n",
       "vVzTMCpqeNWwEisi2bcG5TOyleUf39iFHMwY5JGs4EAeldzO3Bp8D9N3ebDS98tmpA1T12lIz896\n",
       "2169/QmxQz/LFIX8brTt0BXuc3HBCaKJoCVrE4lNl7CtGP2QGPyzaKHPgB4Nh8M4HrdY40ZjxsAW\n",
       "OZf9YejYBZ4GSilZMc/S+XTc8AaPaI+69aF6KN3j9X9GB8f92v4aC2CiJkwNC9b+/p1qZKWXklGM\n",
       "5PO7jofajxgc8K5QGXPUkOvpEm226m0Z6ocYrM15y70W2E7oAAi5AAAAR0GaIWxC//6MsABst+xn\n",
       "VaehbniJOnEbhKWvAAb2SaLrPIwwI8RhrqRssZOgX9jiS9ES2yG0gcq5w5uYQ0TvQz8Gjm+OC/1B\n",
       "AAAAiUGaRDwhkymEK//+OEAD5aq95kUIXABGBVaFjorBn4rhbd21crVR8u4sb+e+p+/VFPqOaD2m\n",
       "moRsDDNQS0nJAjcCHuNoDXOdosW0ZzERYR7M+TBRaJ96a/NeZkonDyzVdMAYOeCUmUslC7iQQdAW\n",
       "buCOY7Yp4d3EF7+mXWaWEwK64E0N72JJZTaxAAAAKUGeYmpTwj8AVDFEq39CO0lB1btnL91AAABL\n",
       "ZrOd8Rk7jucyucYkLMhsAAAALAGeg2pH/wCCjojWx4x8c3pkhYlw5NiUDQAmqSFybNda4AAAcVoU\n",
       "JiwRWjUhAAAAPEGahUmoQWiZTAhX//44QAPflgYf8n2rZgQIwgGewrAANANKijtHZ1gjAPtV3oWh\n",
       "9JCaKZ1BhpmAAAANmQAAAGpBmqdJ4QpSZTBREsK//jhAA+FxApazAC3VgrV1UusiA2HS5RYTs17p\n",
       "alyfVCZAg6CGot7T2ehnXOATJNp5NxOx8JEpljxnt8c8qmG4lPz/1D0fxb1xSPvjf/ymTuRSZ2W4\n",
       "P7DYAAADAN6BAAAATwGexmpH/wCCuMv4OIeeK9gxQwxdZhUPABOT3m8bzJeU0kbQ2eU6OjeYp7/M\n",
       "OiV8kLd15FQw5zQjBvxJpVRW+gdM+S14AAAO0lO6oFPqAS8AAABsQZrJSeEOiZTBRMK//jhAA+F3\n",
       "NbIATTcCxJgvzwbDO447WVqK7fTWTo7nVZ/a5PM/r6o/nVQGAiwrgoYZlSzw5UshbjOm2oeyjB4u\n",
       "fBpK6SNz/EuhsJCsrWUUhTXdTNqrtt00KO96AAADAIuAAAAAIgGe6GpH/wCC/GlDfHatGv7nYZQW\n",
       "+gAAAwEdFPq/D/BgxIAAAAA6QZrqSeEPJlMCFf/+OEAD4Gru6z6V6DN9QAPB8tH5kOHPV5n8uEj8\n",
       "IjIN3lJWwfU3oYaMK+uAAAAK+QAAAGhBmwtJ4Q8mUwIV//44QAPhffiXUQAgsGeqJKc8JzGwQvG7\n",
       "DfOcjqmrhy/9Gp24bFJh26wN0T0YQ4tP1rqudBpdHR80SD5g04Iy+JJ4wBhO8cDfQx7L2r/g2csM\n",
       "wcG3McYR2LAAAAMBqwAAAEFBmy1J4Q8mUwURPCv//jhAA+WqvfIZRtyZ/HMBgBpBELG+zwHVeOL6\n",
       "bPrYOcogPZqmLJpEYQYiWz4SBKAAAAMDwgAAADUBn0xqR/8AgOD1uq64R+Z2RoUQN0MfgBEtgiHP\n",
       "8liSLgsfXfcWfzo7/PAAAB5+zVBJf+AFBQAAAElBm05J4Q8mUwIV//44QAP1khne/5D6ooAExYMN\n",
       "ASdLVXrk+5YnpnRivhUC2vIMOgcGRaWSWqdbstZNU81ACfCLZ+0sn+dspRGBAAAAQ0Gbb0nhDyZT\n",
       "AhX//jhABBPV9G2sqHYJsWY0MABs5trVdH81Qx2hIKo+ZZgVEejYyt2ez43+e6wO821Xc35koAAA\n",
       "DAkAAAAqQZuQSeEPJlMCFf/+OEABc4tB7HLC+a7gCTZ510oo/kafoY0aAAADAHrAAAAASEGbsUnh\n",
       "DyZTAhX//jhAAX07+vGr9MWBcABNcUMqrKDSgwPB6f1rnTPrMm2gNWDdUL0i7vrOGXWBKgLCqgKy\n",
       "LwyDGSSTYhPvkAAAAENBm9JJ4Q8mUwIV//44QAF9nmr+B88MNK9YACj+cDbSEjctbo1iiWI9iEeM\n",
       "OYBNB0gZX2EekJRdrViZ5Sle3YAAABDxAAAAS0Gb80nhDyZTAhf//oywACMKK3TMwZAASUiIZ5ou\n",
       "eqSjk2tzwNVZXvAB/rfzLpa31TIZR8HQjQSjHBGjD3S+Jye/lId/Omblf196VwAAAHNBmhVJ4Q8m\n",
       "UwURPC///oywACMA5IldPSV4EEiwAcoNVUUTRYggtavnF8/G/pL4VQW88aO2RFgC/SbuD5XSsqpH\n",
       "ay2XLYtg5bZiZ5gIcGhLW5mj44AqCPd/3q8kexh2Irz9A7R8PhTCGoQBeuvu+jRoTDwYAAAATAGe\n",
       "NGpH/wAR2R2mgQcoLdwsgCMiWU0lxAs6U5k9DLPAZsRB0TZisn8n3snznf2k/3dfD9ydxUVzNA7u\n",
       "L5HXYbBwAACe6d64sGbICwkAAACyQZo5SeEPJlMCFf/+OEAAMnqrgguruABxvOEtPVM5lUKOtRfk\n",
       "tfoRsP6E4Ow7cNrQgnw2D9JBTJhbN1FyWmvqvR0B3IECBwjG+i1x33Of1swl9CzP182RZik8dgk4\n",
       "Kubwxxhq425Q5A4IcwYCVX4Nbm4x5Trx3xH2hhfXt/TdQLtVKFSqXcMDrpk2IffB4Fm768ZD31Nq\n",
       "lKjFo0GOm5UAyp+vvC8nuwLaFXGxLH6AAAAVMAAAAG1BnldFETwj/wAewNvEBh0LiZQdJ86tNKca\n",
       "uAn0kK/iP5z7L7ABtA6Qq8W0M6/caZ/bSR8HT6PeFyuAt5l80N8q0A+P7C2ezLXZeUsr8R2Hciin\n",
       "Vv8CS31q7E3xYcB4AgAAM7rGYsgJ4yB8cJuBAAAAegGednRH/wAyOFE32HpoyS1EaOAB+z049R1y\n",
       "WzWgQNxMLUh6pEaQh5ETXgGzpacHDM6pmC5m5zx1vRaIUndjDWtvvauhGOQnEtK7LmFOVeAwmfDs\n",
       "QdFjAkMUccCCCvRO2TihM6JI62qfcO8kYsNJWAsHZb7zoIAAAG9BAAAALwGeeGpH/wAyUnlt2ti3\n",
       "bDZAAtLZ75onbTuokj9iWmiU+GkKsMdKyqJ/AAADAKmAAAAASEGaekmoQWiZTAhX//44QAAyNmum\n",
       "p2KqSBrHIe9vsga9RHB5HEQnkiaaNpnBtsKuUCe6d7SZ5at/3V+GFN5Y5qYy/DcoAAAETQAAAGhB\n",
       "mptJ4QpSZTAhf/6MsAALbUw2bD3+oDX7pJ1vl6X51764h9tciObHfTssx1W9JoAV20Oh8Sdb5ywZ\n",
       "g7DrAo1hgX56TSJhWDfAWlWCoDaD0QJ4iMUkUY90h5Wkh6iYKCTdiKjAAAAW0AAAAGZBmr1J4Q6J\n",
       "lMFNEwv//oywAAt/MuQZYBH4WVlZBz4p0wgAt0ALXWcjlgL15NJnothnNylFtmBcOCAMPja/ztpc\n",
       "oCh5mqGDXD0SAaDKOi9HtQCWVHRmBtRkMFVrI7ov7oU0AAADA48AAAAqAZ7cakf/AAavXSPYo0b4\n",
       "SSpQMLwikiURTptDNK1ApQAAH64amel8OBnRAAAAZ0Ga30nhDyZTBTwv//6MsAALJ6F8/ETcARIP\n",
       "BaGFEXsbae4u02ycq0R8wbDM5plOhMw8Knhai2WgnxZvBXPOdfYvUg1WjqAvbQ3CsWg43KJuHIC7\n",
       "ME9JtAULxpUzdGQ3vOxX6+1SDoAAAAAvAZ7+akf/AAavXR9XaJu3cf/C+q60364AyGM2ABKFK5E9\n",
       "31oAAJrZXLekJuTkAWkAAABiQZriSeEPJlMCFf/+OEAAKxFwx4KqrADRT/rQaxPjy5wJWlfHclZi\n",
       "xn5XxHOr9fjFBWHOPBh+sBgklrxLLajdlqA6VfYJhuLJnXZ2RSOdF8FEP4oevu/wmX+ivltgELpe\n",
       "b00AAAAyQZ8ARRE8I/8ABClFY513wzkNWPt84Fng4AAE5GqkLg47hxYAABiC4RtIegGM7wJkt/wA\n",
       "AAA4AZ8hakf/AAbCVE/EcAA0RHuEdW2bI+oLmOrl0y3INfkn+Hyf4gC5uVhOAHztOIReAAAIfJ1C\n",
       "VykAAABiQZskSahBaJlMFPCv/jhAACsS7rGAIey4Fkpj/BGO8i3+/gc84pTlC/cCbpRC0K9fCHfr\n",
       "PZh/3pLpSs4uiM/J9huevc3jxvMZQHxn7n6jIhvepuNiVsPX3CZuAyTkUxs/jcAAAAAlAZ9Dakf/\n",
       "AAbDyd0AXaKudKp7J2z8x/AAArA3q6NBccoEvVoNSQAAAG9Bm0ZJ4QpSZTBSwr/+OEAAKxEXzFRg\n",
       "Baqiy5J1mEvHUa0ZFsSeiUf3Bt3Wvewa1PAwpHLauliSPCt2+363Ay2768oUQZuyhufbpMmS9NWD\n",
       "l5IR8xUWHL6qknztlOnSqjsohzBCO8HzYAAN3i7B6YEAAABFAZ9lakf/AAavXR+pKGm+aVcfwGRo\n",
       "RyEg9MkbCrZ8ALn244CyFf/iojTCJ6Thz0++Y7R2o5oFoAAcUuZFWWx9xQ2JbWHHAAAAQkGbZ0nh\n",
       "DomUwIV//jhAACsJHNuwuNODtEpczVJAC3fnmw6uBYPmHw9qn4MCgj25oR8yZPW7NkpE8u53bAAB\n",
       "uzFRFwAAAFNBm4lJ4Q8mUwUVPCv//jhAACteZ8QHxtwKvkxcnkb0UlpVP/n8kMRjTlgmJ6bmjlKA\n",
       "+Y10zyO1WyMKH3YQ2U4MGIcamqtdESZlEgAAAwDOv70f4AAAACwBn6hqR/8ABq9dH1gQ7B7a2N6D\n",
       "CqAD+yAwlLguNR649VEHAAAeOcBR75iBDwAAADhBm6pJ4Q8mUwIV//44QAArH1B8rtwIOG8MrZC7\n",
       "mNLRtUxgRW5GVI0VugAFnq/djUAACc9/65CCqQAAAEBBm8tJ4Q8mUwIV//44QAAPfiiAZNgAJrbX\n",
       "fmuMAJfNl6ihIA0TnFWVoxnZB177IsH6Qm91NbRQ7liROv6CWdJgAAAASUGb7EnhDyZTAhX//jhA\n",
       "AA9+L3lDDAB/NNS6vSlqNp/jPrQP5lYP5PH/eebB1Uha8YuXyk7DLRV//h5TF5Zr6yXdGgAAs2ZF\n",
       "5XAAAAA7QZoNSeEPJlMCFf/+OEAAD4GZrEref/uZxLTtfTwSmmA8RvEtCVrrBk6l/ZMH+ooG/enB\n",
       "iJpqYTZ99CEAAAB0QZouSeEPJlMCFf/+OEAAD5epF54YO5ViRa/cMoAQ1/Xppok/bqTVee3cmbSV\n",
       "619DwzTnZkx5jqgYDdwBbOcmg5QbDNfwLahRu24RuadkrqVGe7oIhAoR+6DN6GWz0zG8zlR6ZxEA\n",
       "XilrNjUWGIKyxAAAJuEAAABpQZpRSeEPJlMCFf/+OEAABdeT7Lx+mK2vT6Ra1BusuVrgB0josgKW\n",
       "xnREBk9hhG23IJ2TVGe+u0SbN4vLHTja2oKapuL69/mgo03tEHmHh12iO6msyqs+ubOMi7Id4CKS\n",
       "CqY1lXgAAF3BAAAAUUGeb0URPCP/AAQpRUIhPSJ+LHqsjXwABD4Ji95GnQaB8M6JdkO5EG7E4kj1\n",
       "BFavBiCIQ6MuyVpNj0w13eg6/tTplrwJiMOAAFJX3T0AF+DGnAAAAHYBnpBqR/8ABsJPIRmWi+9K\n",
       "ZAiMVAuWAliaDP8AB7HDeTk+sLOBD1riX9+ZkH+VPG6uyjPEI1ybK/rkdpcVzkmSclR2CgoNW/RY\n",
       "RxmPHKVWKE1G4COrXcZwwrNQX9bArgDbGHvUUPh18a0uEHMC3CgMXKwAACkgAAAAVEGakkmoQWiZ\n",
       "TAhX//44QAACCswemZ8YAQZ3ywWrwpPgue6/4hRtaLOVlJzpezmUcEPW5a2XDkYOT0+87kTMYCyX\n",
       "65WEMmbemMd74bEp/l/MAAAi4QAAAHVBmrNJ4QpSZTAhX/44QAACGqNewULnRmdwJTRQkxQCLyjD\n",
       "IM5lnLPFvFR58ABgXDGdHvXnNGB5Ho9f1w/ElqWym7EnJWKAW/D+0mwntUQu6EFJEJj6C4zth7aG\n",
       "i+VIhqsiQNnpfxWeYibdXq0gXrE2UgAAEjAAAABaQZrUSeEOiZTAhX/+OEAAAhnjQmKNgyZn6jL1\n",
       "s4ugAny2n8C5+O1lYlvl8U5HjAPNswRIjC44nLQ7VF2Q95DK3pHJRSI5ots21KiTSFs6EStQyzZq\n",
       "JygxqH/eAAAAbEGa9UnhDyZTAhX//jhAAAIaUWKewIwztXTnhZhfEgpZdjIAJRSx8glaD87qI+Ca\n",
       "SpOw+QjNokZnF5hPuVFgnuiKBXTixzdY9myLD1HRHTMMp91/o8s29WUd/udbHDGuzhfV+2ByNFpk\n",
       "iLPzHwAAAEVBmxZJ4Q8mUwIX//6MsAAAd0+/wvxgtLlLd00AH89D+G522jsljP7qqAmytCtW1H34\n",
       "ghqFN6BZc3u9Bd3q3AAAbkA1sDoAAACJQZs5SeEPJlMCFf/+OEAAAdEvB8jWdAIR50WXMbOt7ZDT\n",
       "CTrjjHkUSHlyqbzvUXG15qn88TAm+nQ/t9rf8wcnNym7g739aIIttoe+O4TSz2PCIguFjTJLqJsf\n",
       "/9O7SpLqkvUGt192s0TdK10uYX3bn0uL0W+Cna/MLrEQYzGMXogkQjrv0rGFVzkAAAAwQZ9XRRE8\n",
       "I/8ABClFQRd6GCvKUMSckuSvm86zr0AXSoOJJ2AAA4rXPvNzdUNiWtdjAAAAIgGfeGpH/wAGwk77\n",
       "0n0Tne5NszI7k+Xa68KfocOAAJBej0gAAABdQZt6SahBaJlMCF///oywAAB3+E57iGeSgA3StJfB\n",
       "DEzw7KTC98mKe7yR9koKkEvw6YfdOv8GbWaejkHQNHrllgjBPEbvL8vol319tXUOcMec2ndHXwli\n",
       "gAEXWCQ1AAAAUEGbnEnhClJlMFESwv/+jLAAAHSt26Ln7OAAXTZGrKHkk+5x1a6t1KGeIKQNwQyW\n",
       "MxnbnYS5QGT/dUVwDR34VquE6AbJxMDFdMwABOdQQn5AAAAAOQGfu2pH/wAGr1zrPJi+ccIASlEJ\n",
       "cQ0Fm+tp81oNK/xTtdhjyF0mqxXPNExkmAXeS3wADdaFZCYBBwAAADVBm79J4Q6JlMCFf/44QAAB\n",
       "0d/6WpZWlXgW0kHx93uAGkEQsb7OX1JBbqzUiNNPQfQxsAAK2QAAADxBn91FFTwj/wAEKUVBFL3N\n",
       "BAB9YET9p8VANkFSShKY/e9cbKlD9SLgv2lFmB2XU0pIAAdn9zUlI1Jm14AAAAAkAZ/+akf/AAbC\n",
       "TvrfEr2/Xmy2jL0PH2QJRQAEsluKA1kAAGhAAAAAmEGb4UmoQWiZTBTwr/44QAABzvL2KU7krMYN\n",
       "cU5oqW6zckkaplYJ8uLeV/yGn9MMHpYQHyZDaxkYD/eNsOiycu9BIG2tHec2sszrtGTetY9R6gDx\n",
       "Xx6NBECJ2voEmo1hcVEdW1h2bA/wU0zLuPk75KmwHq7AFaWE7+OmwjtnD5gsNhlP1K/zlvvpUGZv\n",
       "7qHZSS9fK89h10mJAAAANQGeAGpH/wAGw8g6GuHSQ+rduIATNc0OoysGkpFSUPv9qCvIkyLVaFUZ\n",
       "u/haKgAlQufdkoLSAAAAWUGaA0nhClJlMFLCv/44QAABzsXvAauvpNbXZbpve/kUAEvXTgIz1CEh\n",
       "tJ4XgTJOn72zBdQn092cccv/7JT9RTecF6Lq8ut10FT3RvlzhIRmQbUsgoZb9EH5AAAAOAGeImpH\n",
       "/wAGr1zrQ5KGVEtYUH4ABLBaD8zcec0N8X3FuPQKSJNuTlKqXUpEOeWgArPvhg+Sr4GpAAAAWUGa\n",
       "JUnhDomUwUTCv/44QAABzzwFHdM0EW0W3z3TWmNRLKT6+AfGSZ201fua9QlLNvprqFPaWnLvaRHq\n",
       "83hKwsf+Vxp6vrW5qUnGEFL/5Fwdvu9fIAGlU84bAAAANgGeRGpH/wAGr1zrQx2y2rzdJqwr/6Xv\n",
       "TkXkt/Nb73/eYWACBPV8fy8SN8h0GQACKROHB8AtoQAAAFJBmkZJ4Q8mUwIV//44QAAB0d/6RnEe\n",
       "7vFzJdBlA+n0JABEHmRj04s6Tt4uZ9jLmJ4T201vj3uDTLBubViz4PcVN42d9uHA8RFwml57NUAA\n",
       "AEHBAAAAMEGaZ0nhDyZTAhX//jhAAACsc2nGAbtLT/KSfAjV5NdMRYTPkKaiX3xOon6A0AATMQAA\n",
       "AFdBmohJ4Q8mUwIV//44QAAArNoBToxiRQZYC1ZmC2r5+t7kcR9LAAfs9P8vxkyHY7yL354sOnXg\n",
       "naBetLJXYIHeLrqj5c7UsRuqzzjpO8ZpXdnQZeAABWwAAABqQZqpSeEPJlMCF//+jLAAACzfHVNv\n",
       "dFcOSzWj5eJ5nSAC5HQa7QMAvO7ZiXvNlkiZmT5ashnEw3f1qStFhZGbDkBoE1USeEYKyw0ngOwb\n",
       "iWoq0k/u5qELgVr6crDDG/j3BRyNrUXnnqCjgAAAANFBms1J4Q8mUwIV//44QAAAPlv/SNGQjMMt\n",
       "vqE6gAcCw6+wr9Trrv8+Tv0R2ytxuik86E/J89gaAfpp5g+cuM22ifXqHoXNva/1gxHqljY/yhud\n",
       "ePqYA8i0PmPYR0Bi7Gzoy7S+fS4D+fodMHXPqbKafbMc6h4ATYiwZ+/0HHmwZXwRGXlGUIxswP34\n",
       "P7YjpxKvMA8ddRqWRhv2MLhRm8pDWOEwxZYarYOwcPLIuCaU9YxhkvHFzaCJ74arbr2W+BVEPlnD\n",
       "eQa/VV78SM8C+AABbQAAAJVBnutFETwj/wAEKUVAsAn5KnCSYQBP3cbLDLvs+466mfgisgI4SonV\n",
       "gkORy26B48VhelPSIvG5kLXApP2atLikAst+EZ8YrHAEBsFH+CCDqkDr8TEgNnvtU8H+Pjtpj5CP\n",
       "YKf0Y17ZG15PpNDuevcjJzlfTpSI/KRfhu+jsXr+1xJTv29G5YC/QABR8JMVXyUFTTJ6QAAAAIgB\n",
       "nwp0R/8ABr8J1QMlPLDYHINYVCBiyABON73ZSlahhDNHggH1R3/rHpIi6vSF+2Puqg8BOpv88ppk\n",
       "aib/OTdUy4uSeGcKKFNIgZmT6llelz57L+L7X4lvuASuiHr7HFDUf2Dfy2ORtu/B9H15lITFynO2\n",
       "sLFzpI04oHaW0YdC3tnGRfMgAA/wAAAANQGfDGpH/wAGwk7sVFXbYrh4iFQLLqc+45EAJVUUETEG\n",
       "l5o0gBJ6CMBputUxI8Qgg8WEAALLAAAAWEGbDkmoQWiZTAhX//44QAAAPP6kXmz4uY+KtFZ7BNVD\n",
       "SS6AqJrYeWA7DgwAtXSlp3AsHfNJhyGSJBeTYTP9+fxfFz3MPm9s+8sDUAPswWY4oNwMX6qrfjkA\n",
       "AAA7QZsvSeEKUmUwIV/+OEAAABapAGPn/u/fBIEghM3ABAyR4BAJF83ywz5uUzXfrvgA2ngVXnR0\n",
       "PyAAVsEAAAB6QZtRSeEOiZTBTRMI//3hAAADAFj/IAATOsbkuAUFlS2MlQuxR5R0AvLBtxGZZgnj\n",
       "dPRXdsqIzymw2sWFJT0SBoT0acOCFZzZ5nT+C2KwkPPvPPun/2gB0739lrC0Lw3fpkzS4COO+Pqm\n",
       "XwUFpn3a+E07JbunI614syMAAAAtAZ9wakf/AAavXOqYjegoBSS24gIEObHrH9YQZ6/iAMdcicAB\n",
       "5irgth7ooM+AAAAAe0GbdEnhDyZTAhH//eEAAAMATboj5UfkPWggDltRX7j9xUT1llQ7MFHT8Zj9\n",
       "knzZHX2KdAPO6o3gByaC4PcwmybtnE2jx875kjM5v6H3b+V6hu1dJWB+xwmeVWyxrHqH0VDG1oCw\n",
       "yXLU/4HFostHdYuAwaGrnBr8LuTekQAAAE9Bn5JFETwj/wAEKUVApd2rbdd0mdUAHtftVYVQaPHE\n",
       "bJ60HFRllj6RheMVryDVoJ4IHBzOVf9ZiFhPoRlPaLj8WaSX5zAABlxcNANVXs84AAAALQGfs2pH\n",
       "/wAGwk7qw90L/yAZagA9IvXWijQnXLCFn1bHimjIzmi4d1aDzgABZwAAAIdBm7ZJqEFomUwU8K/+\n",
       "OEAAABNPNG8NaFtiLVABakjM1Xee5dIIeYD4zYWo6JtOsdmR9sBWCgL1WCyRt9+DFnpLSlgtVc55\n",
       "yusv4n7fO9SYjrzkYxhy4EEiGjUR2HS48ABUZah7wUYUxYOh5ufGxp3v/B8BNSjorGlvlpjYHHQQ\n",
       "wNlqbjlxDYEAAAAwAZ/Vakf/AAbDyDS6ho9bgKEaeZ0hBBZHzGQAErmgtYVxxgV5p4vAPDVfnaAv\n",
       "wBgwAAAAQUGb2UnhClJlMCEf/eEAAAMASUtiIhCOgBEN2q6nX10c4cnFOguG4xlMjXBPUxd0TTKK\n",
       "VVOYNpgksElU3g7RgAM/AAAALUGf90U0TCP/AAQ4KamcOfh8ILgmDYuIvPmFUiixropttEwBLkAP\n",
       "FeWMoMZs2QAAACYBnhhqR/8ABsJO6roPhZdmwYLuh4lusPvsqACdWs4z7KNn2YAFbAAAADdBmhtJ\n",
       "qEFomUwU8K/+OEAAABNcAcaKEGHBTw5cggIdv2sO8b92DOpQAExggmya3z7C2W35ABNxAAAAOAGe\n",
       "OmpH/wAGw8g0uoic/UHA1kKRdgYp6zQASWfzrq+7lhtOCQgSOIOS/fn6mUBnPiYpbPodUAlYAAAA\n",
       "SEGaPEnhClJlMCFf/jhAAAATT2jRlaar4Kw26uzoHKne+wG6Un5WT2nn2f05S6fE7T9kMX44GH4Q\n",
       "Fq1uW1kWLZHzVURfkAAr4QAAAGFBml5J4Q6JlMFNEwn//fEAAAMAL8zVgRn35+rgASxI+Ot6lirU\n",
       "OsAmuVo/tsUv407BVo6ci9THTAqG/xUX/6TlI7MQplAcceiUZveC0P2sIUu8BNaBVXiWpx+wYtan\n",
       "oAHdAAAAMgGefWpH/wAGr1zql4JrDsUNpUgBM5AGJJLBaFgfKnAOpSA83VCngX3SQDAM2dkhW8D/\n",
       "AAAAVUGaf0nhDyZTAhP//fEAAAMAMTv8M2EOb1AC2YlFSHbmx8cFyC2NmceXuknOVY+QrZWCDcJt\n",
       "OFWeflbf4XIxeHpCjlRylJzCQ2wAHyx0uyOGe7+bQIAAAABgQZqASeEPJlMCE//98QAAAwAvtNkA\n",
       "7V/K1p0gtTJwWsIjsdt3egNhHG7T8mgCIrKU+NGgvqG7MZ+AAJlnr6M6ip+3sLuL2XL2gUC27OuL\n",
       "CIwYt21x/v7MAOpT1pPsiLNbAAAAO0GaoUnhDyZTAhP//fEAAAMAL7Ga/YhvNpjahArzwAAnfUJh\n",
       "k1AlbtO6Ls1PHV/x5aWGlHJIBYM/ALl4AAAAi0GaxUnhDyZTAj///IQAAAMAbH2Fs93DZhECxwBE\n",
       "avwjbK1ExPTpKXOpoTe+bgc6gz5/B+VQr6kOA9Y8AMSgpT2E7gl8cIGyq0NVV7H0rbqAkUuojzRU\n",
       "ZQrF6kT5C4jxMYH+shn5SZzMc48t//j4RpK+wsORMQgp8RMAuzjbaiv+FlTrMaxj2OeACFkAAABo\n",
       "QZ7jRRE8I/8ABClFQKHTwkMTlAaJT/T7fav/r0ACdsfabqmTTMxhPRpT7rOS3j8MNuRauA4VZ8f4\n",
       "1Yd4tyvIeKYwZ94rQmYWshB52tnJ5ZrRthP3My3DHGS5F4BFer7jsCsbYCrHq6gAAAA9AZ8CdEf/\n",
       "AAa/CdLwCrgyMfAAoNaRre4YNuQ67m5PwMvhSitvUPS8klIrq6rjbTmeBxQBUYsvBECA6PzsWQAA\n",
       "AHMBnwRqR/8ABsJO6sPi9xthQEgcPCYwAcBfQG8n9zRa00atK4U6abGJE/HCkYPRjYYRdv9Z8J6k\n",
       "gXfuPq8aafYjV9Bv3c6JSDxI39gpduRT3H7S7JOi4GW/+99VZ0dA2ljb/eF7gqsjIuOUn2XHyBAg\n",
       "5ayZAAAAtUGbBkmoQWiZTAj//IQAAAMAJ7CioAmvYBLz0+afSilswWzRNOMBPkZuV5xyzBl8bPqd\n",
       "cYKVnbyPAfbwltQi4F9bB5Pu2Uil+jbnd2TYW0OLyghsGxxkmvU79rOgVvprgwfLox4E4f2wmEJl\n",
       "gV2a3A+clh3JIfPmodOJsG9dYa2RuvPbbgM6nt6Xeq0VYV18NWsTQCniDDMX+VYLBaT+2uGrE9+E\n",
       "0VWZHAzNeUXw9UjaElvQAP8AAABrQZsnSeEKUmUwI//8hAAAAwAnumK4nRSUh19mdrsvYSOxj/En\n",
       "q6mYgC2TseGmyb40Ww5QBvqnJ2a/iem+QU5aChNOE8qHtoGwBqW6rnCtRtZktq+SXa8ELXUq1eNC\n",
       "RrbpR0uZTxR7X08AGfEAAABeQZtISeEOiZTAhX/+OEAAAAMCo8n2gf00N0V6E45vq7WXQs5v/8Pn\n",
       "E9KYgX6xKwzrryQnrLLR09X4Th5F1YM3dKoqZJ7/eDktvXS3txgKlHSfspfCYHBXoj6gr/0AQAAA\n",
       "AMhBm2pJ4Q8mUwURPCv//jhAAAADAPJi96NnUQvJJCgAEe1FTb/uPf7r18Ux3a2M6keGUNb5sqsC\n",
       "y5k/aS8s6yBZ5Q2frKahCNAB24f/l5ZUXPRtmjpkFlnRx6sCk3HUzPYvEPEzlgabpHUk278oaBjR\n",
       "g0WL36x+/4nBk6VRGAeYhuOxjJNTKvXopzNLgg6z2GT+3CVx/ldS187rIq3Po0LB3qAH6oEGkBgH\n",
       "ZnQSY17nWfogV1yDqfk19SpPyQCS1j9Wt+bgtBXLgAAAADIBn4lqR/8ABq9c6pBeDtghEjsz9K9w\n",
       "XzACM7EB4YkG6qF2WcNJHimUqAxCnGzKv48IiQAAAHRBm4tJ4Q8mUwIX//6MsAAAAwA+axSSZUSI\n",
       "AQjVfS8DV1hTefQ17sd4N9I2kCN+F/dDFdmRCIJPlvBF898Qgkg2BsCFPH0+tP/vFkyJ5RAqiZrA\n",
       "ngzVWcxkAJbmmewoRH5fd9pS4dpmAKAQX83Umbdtq2amgAAAAFpBm61J4Q8mUwURPCv//jhAAAAD\n",
       "APPv/SjQ53hsh4d4DrNkAA2qL0ny7iJ03UpPBHWkyVnZvWoF4CSTBPhIYexUqmYPY0utHD6icYUG\n",
       "vHoeKAbwDJ8xUxxXrjAAAAAnAZ/Makf/AAavXOqQXhlST547ZTd6rjGSG1VQBRT2zAel/Qz7EBXx\n",
       "AAAAk0Gb0EnhDyZTAhX//jhAAAADAi3XAAHq80Z0FFOH9Yos94bGVSQ1rjxOLkpIuQA+UFFzcpyJ\n",
       "m9bXbpzUnbJpxIH+frmYKkz3YnJSBBY4v3F3xh5f2Ylpmgd5C5Te5MY7Is0vOhTWRzkaOnyH+pKm\n",
       "bsTqVirvj3hmer7S6mIHhh/YQDmKNtQgqUC6hveFPEoUCblVfwAAADtBn+5FETwj/wAEKUVAoJB/\n",
       "oc0LY15b9298xFACWJcSFEvgaA0o+NddBUrgcgHRfwgD/tQny4mEerzoWQAAADYBng9qR/8ABsJO\n",
       "6hYyofIY6rDZKB+EoW2HoxS0YLvflltNE7NGgA8yUArMOIge6Mw5OQPshboAAACJQZoTSahBaJlM\n",
       "CEf//eEAAAMACHKt2qASOdao/we0xI5MATgBw7CzzZNex1GhkYA7p1czz15V6ROEnGajndwOd+WK\n",
       "i4X8LubPftm33er6MimpX3vwut2Aw+iNrMqghn70k7pWtDrz4ZhhoZxBk1gDvcPul8W/Xr9i2KpF\n",
       "SaIeeB5PbHGTxGLIfIAAAAA9QZ4xRREsI/8ABDin3AVmoq37iquagpqEALbakbfjO4rLdwpXzO6E\n",
       "uISQNA0Or1Ol/1hLBDsdwPTXT2K1fwAAACMBnlJqR/8ABsJO6hWcI/3WBUgSw5tnIATKHO1kU+yw\n",
       "CsjTcAAAAGdBmlVJqEFsmUwUTCv//jhAAAADAj3RNX2wDQKbsibu/J+Oq4XgqlkGnotw3ll15rlF\n",
       "193FFWwahNgCeGPwtAHlW/CJGG3LcVNK+XBOxhKvpaGo30SahDd9W/MwJOIOtNSm+ZaFSAETAAAA\n",
       "KAGedGpH/wAGw8g0hs8XvXuyCH62cDzBtPJmGUbCpUadZIjpiMOhNE0AAABXQZp3SeEKUmUwUsK/\n",
       "/jhAAAADAi3RNoIyWMKQ7Cn+WpUlQAonUGzXimNt2+sU7zX1daLZNFSlBSZg8FxE6ql7jeSR6hnr\n",
       "47+WbrmX1uXnbl77zf30zOIIAAAAJwGelmpH/wAGr1zqkNUZogLcPnmhNKuoH5kJiQ+JH8NipELA\n",
       "pLBsQQAAAEpBmphJ4Q6JlMCFf/44QAAAAwDSoASMBrZyLgBLDxkKURvqx3IA6ZvuxkPwz4brGkwF\n",
       "YRp8vHbMjmSWi30M1WSzBUuH8GREp8mwhQAAAFtBmrlJ4Q8mUwIV//44QAAAAwDTDmEgp90Y0xAB\n",
       "Os7PvFcNN92nmwmwYeizwXlSk+tK1VfgqmULXO4tgopQVXajMKw6x6lNE703KUQtkdt7459VlEEe\n",
       "N626HO9gAAAAR0Ga2knhDyZTAhX//jhAAAADANKdoeVewqKfZqnT7MoFHqDKSEvn2gonBgPYkZ/F\n",
       "+o8GGnVcz9HPU7E7ZTbCqvVPtUXIo56BAAAAUEGa+0nhDyZTAhX//jhAAAADANKdoONXX0m3HhXh\n",
       "CZKgDG7qcDwfRtJ/PrptCZ6Zte2aSWGebI7NWe7GbILSRf4cXo1K4L7wce8kka1LTa8wAAAAYkGb\n",
       "HEnhDyZTAhX//jhAAAADANKd7Vu/fqJrV0IBEW+ec3Q6gijfJr7/WSIIQjNb/AGLse0ypXSeMSZ8\n",
       "QL11zEbmAP2IWBwprFmfR45/HRAjvdBCE4bIEi499XTtnnujy7fZAAAATEGbPUnhDyZTAhf//oyw\n",
       "AAADADaet258axxyvnBZvQkXGoZ4tf9mnFPu5IFfF4dktZRAADIiqty7QrA6sW/6h+Y1pOrN+h78\n",
       "vGi1iuEAAACoQZtBSeEPJlMCFf/+OEAAAAMATb4IcTrFQxnPFNkM1hkcfiACEPl8lgOPolG2GKod\n",
       "JjX7itmLH5WtUSaPOLPkxLXRp2vdC5/3bOYIovuUSPhG/jvK7emU6lFDFoPuJ5JW8XFLF0lKyrj1\n",
       "tlF1xvvyDqNlOpif6GXIEyP8dKQZJ7ySvuqnCKp5tEtnkckrhYHWGmWAZAzgfMaGVoDf8tonkknW\n",
       "8VWGgKGAAAAAoEGff0URPCP/AAQpRUCgFBZSJp4WyJXojpGLUAIwN8fMN7bBOu8YyEgybbOUo6Fo\n",
       "DXsPflv3Z5GEgB9mAaSI0IrwCQ28Axz5lfu5TuOnxluo9eK8nyjksXbezo2MpImTkM1ZKrnn0dno\n",
       "FN0FmBLsclVoKdTdJs1s3jRc30+S1QlbU6FvXEm9LAwY0SvBkW7PYnKoOLPv+bBXE/A/gYFsZiAA\n",
       "AABCAZ+edEf/AAa/CdIDqwPLwFPzi864BO7TLn5UxEsIR/aLEdrW1h9q22mmfaeVjQzQl2LIUZuU\n",
       "WbO9hqiqAu6iQLOBAAAAjgGfgGpH/wAGwk7qAQ4ULI4AASx/P/2o7MgX8Y1xN8TBqwvyPCR6HWPo\n",
       "DgZkbdJ2aVITvhS3D+vey/P2XGRjqdiOyYV/Pw83nwLNIbc9il/o6FrM9//8RxFe+hY932EjmK7O\n",
       "ZxYJ9KTG3wf2s3RhmJVbJX1ylo1jGut1nBnNc9T/0IngSM0UGWohmz24EXAAAADlQZuDSahBaJlM\n",
       "FPCv/jhAAAADABxv6NNotMEobrh5nN01CgqrAOqxE36OQt48h5KXwW2AnU9QHEs0JCpHzPQ7T+ua\n",
       "g2gq3h9Gp4CX0XV4EM2ZkmF+pvIQlYWRojzisXou/x8rR4nO595aBkTMQoM4cmEoxwb/0l415IWw\n",
       "qFoScT+7zRJW6HE62f7f82EIIZMBU2KX59zmXkfntweuwwt+TOrURO73XeYjoTzK7yCP93B6zJMj\n",
       "lxGMnWPQZse99F6znRaHzeVFJ21Hi6CO7nSaxIGiBaBJkf1uEILH1nBwT8O9k+Ac0QAAADIBn6Jq\n",
       "R/8ABsPINIBXaIUV29Uw+Tg7t/Fz/otgB2SfgD5mWzIBYtSHDZ5RVj5H/t1AwAAAAHBBm6RJ4QpS\n",
       "ZTAhX/44QAAAAwAcbf+licnjM5QAfztYC8YcXdPokRMxmCV8zrhsdb1HVOtXZDSyZgp4nEPlWtHE\n",
       "CxULx0oBT6gZn7kVAsmoAQ93bv7aJWlg87w//9lRvT91Vt/rMQFybnukDjJ+AMqBAAAAbUGbxUnh\n",
       "DomUwIV//jhAAAADAAo0gCZzjACv2c0qGO36G49xiBDE85gbSvp37XLeOddKXdvERsQ1RaXHquMP\n",
       "h0jhBQMLKXbbbmH0kkyZ7fHvGB/Vh4AKMiuttccS8If1cVqbU7bcFSq3Mc5FVakAAABZQZvmSeEP\n",
       "JlMCF//+jLAAAAMAAqYV1SwsvP7rKCFXT4eOuNuaCVha6eAEsmGtc5w3yjyVY/QrfbaamUM7DySZ\n",
       "n6X7wPLOq+4Ka4LboO7c3BjtNHlcm8V5YhEAAABzQZoISeEPJlMFETwv//6MsAAAAwAGKWcmd5Cj\n",
       "mVPE4umpiKqH/7aU8AFzJ9IM0JsJk2aScFL1d66pAdEb1f8T6AmfXWGetE94perqkBxRR9Cv4EOh\n",
       "P2caaSf91mSAcbTZgx5uInHtAYYM9+u5OyWwUNdlgQAAADUBnidqR/8ABq9c6pAJVVRgKF23kl5R\n",
       "vQCU9z704/rkbg52XzrJKr6a93SZEi1xe6oYA6TpgAAAAGBBmipJ4Q8mUwU8L//+jLAAAAMABilj\n",
       "ed4/vpvS6RwfGA79sa7ABuVOPNH8+66mP2p97mIcFxi7K7/yN6XJozrhr+DqZNIasjzgFlMMJnaw\n",
       "fg0gaRJzFSQuEfkTR7h16+AAAAAmAZ5Jakf/AAavXOqQCQu5zg/tOOOUSmHBtNp09KZhbyCiHmVB\n",
       "IdMAAABYQZpNSeEPJlMCFf/+OEAAAAMAF9O4Y6EVveW4/r+XPwAHE9FN9ph3HeIbc9kgROIhKbXo\n",
       "/4vf6H7GluHDFMgfm8zujFAZBVHXoRTFflqzQpCsu/dhKLgRQAAAAC9BnmtFETwj/wAEKUVAoAYu\n",
       "Z9gj55KqOg9ppLReCRQAOGP19yZ7wIxG+qjDPbVMLwAAADgBnoxqR/8ABsJO6gDnoQvXc3ZrongH\n",
       "h3ZeNeSgAknddKZRS4mq0qlyR51zrzflyo2eZlCnymYRMQAAAFJBmo5JqEFomUwIV//+OEAAAAMA\n",
       "AU+J/qNbBQucAqBhlUHpNFW4jD0vbSazOZUna7LrAsJgfunMNYnMC9zBnB8ls1lB7G/VF0GuQcYb\n",
       "/MFB70IXAAAAUUGasUnhClJlMCE//fEAAAMAADnoVYSSLPcGOi+4ABag1ZVGiE0tTYawjf8Q/0Vr\n",
       "LxSPPHQI3ndr8eygi5TmpngpHv7y6ZbdPTOmxcgoVXzFcQAAACtBns9FNEwj/wAEOCmpgCQ7eixn\n",
       "kCWJfP/ITT5aFd/OmmMdMSR7Di28hbwoAAAALAGe8GpH/wAGwk7qAOcGG3jfytneAyPX2PvGy5wy\n",
       "hvPVH7ABLZgmiMlZaM+AAAAATkGa8kmoQWiZTAhP//3xAAADAAA5115KXpjFA7hACVH4aR8bGPHO\n",
       "No0P9xjDbqAe/0ZbAtzU5AiKMY92py/TuBnYSwyZa9I6EQSEVqNmgQAAAFVBmxNJ4QpSZTAhP/3x\n",
       "AAADAAA59w6pqE6bJztU3j664ABcgrey7iObrHhZbeRzwi9NvgSFd/uakxbczQp2htgep/t2D5Al\n",
       "kpvFQUU4CkCr6mS1x+80AAAAOUGbNEnhDomUwIR//eEAAAMAAF19bLRigZh8sv+cG4XbF6ScAUFi\n",
       "iW+LrhOj5iv21bBIUYvpuEYuxQAAAFRBm1VJ4Q8mUwI///yEAAADAACGjaHCsWBFBnRfaXtj7PXm\n",
       "4Z+LSNlIJ7MACcZqhovZG4A86NLybPA6KBgEN8puBXlhYTSxrHbokrKfecUet7enPsEAAAjSbW9v\n",
       "dgAAAGxtdmhkAAAAAAAAAAAAAAAAAAAD6AAAC7gAAQAAAQAAAAAAAAAAAAAAAAEAAAAAAAAAAAAA\n",
       "AAAAAAABAAAAAAAAAAAAAAAAAABAAAAAAAAAAAAAAAAAAAAAAAAAAAAAAAAAAAAAAAAAAgAAB/x0\n",
       "cmFrAAAAXHRraGQAAAADAAAAAAAAAAAAAAABAAAAAAAAC7gAAAAAAAAAAAAAAAAAAAAAAAEAAAAA\n",
       "AAAAAAAAAAAAAAABAAAAAAAAAAAAAAAAAABAAAAAAoAAAAHgAAAAAAAkZWR0cwAAABxlbHN0AAAA\n",
       "AAAAAAEAAAu4AAACAAABAAAAAAd0bWRpYQAAACBtZGhkAAAAAAAAAAAAAAAAAAAyAAAAlgBVxAAA\n",
       "AAAALWhkbHIAAAAAAAAAAHZpZGUAAAAAAAAAAAAAAABWaWRlb0hhbmRsZXIAAAAHH21pbmYAAAAU\n",
       "dm1oZAAAAAEAAAAAAAAAAAAAACRkaW5mAAAAHGRyZWYAAAAAAAAAAQAAAAx1cmwgAAAAAQAABt9z\n",
       "dGJsAAAAt3N0c2QAAAAAAAAAAQAAAKdhdmMxAAAAAAAAAAEAAAAAAAAAAAAAAAAAAAAAAoAB4ABI\n",
       "AAAASAAAAAAAAAABAAAAAAAAAAAAAAAAAAAAAAAAAAAAAAAAAAAAAAAAAAAAGP//AAAANWF2Y0MB\n",
       "ZAAf/+EAGGdkAB+s2UCgPaEAAAMAAQAAAwBkDxgxlgEABmjr48siwP34+AAAAAAcdXVpZGtoQPJf\n",
       "JE/FujmlG88DI/MAAAAAAAAAGHN0dHMAAAAAAAAAAQAAAJYAAAEAAAAAFHN0c3MAAAAAAAAAAQAA\n",
       "AAEAAANYY3R0cwAAAAAAAABpAAAAAgAAAgAAAAABAAAEAAAAAAIAAAEAAAAAAQAAAgAAAAABAAAD\n",
       "AAAAAAEAAAEAAAAAAQAAAwAAAAABAAABAAAAAAIAAAIAAAAAAQAAAwAAAAABAAABAAAAAAYAAAIA\n",
       "AAAAAQAAAwAAAAABAAABAAAAAAEAAAUAAAAAAQAAAgAAAAABAAAAAAAAAAEAAAEAAAAAAgAAAgAA\n",
       "AAABAAADAAAAAAEAAAEAAAAAAQAAAwAAAAABAAABAAAAAAEAAAQAAAAAAgAAAQAAAAABAAADAAAA\n",
       "AAEAAAEAAAAAAQAAAwAAAAABAAABAAAAAAEAAAIAAAAAAQAAAwAAAAABAAABAAAAAAUAAAIAAAAA\n",
       "AQAABAAAAAACAAABAAAAAAUAAAIAAAAAAQAABAAAAAACAAABAAAAAAEAAAIAAAAAAQAAAwAAAAAB\n",
       "AAABAAAAAAEAAAQAAAAAAgAAAQAAAAABAAADAAAAAAEAAAEAAAAAAQAAAwAAAAABAAABAAAAAAEA\n",
       "AAMAAAAAAQAAAQAAAAAEAAACAAAAAAEAAAUAAAAAAQAAAgAAAAABAAAAAAAAAAEAAAEAAAAAAgAA\n",
       "AgAAAAABAAADAAAAAAEAAAEAAAAAAQAABAAAAAACAAABAAAAAAEAAAMAAAAAAQAAAQAAAAABAAAE\n",
       "AAAAAAIAAAEAAAAAAQAAAwAAAAABAAABAAAAAAEAAAIAAAAAAQAAAwAAAAABAAABAAAAAAMAAAIA\n",
       "AAAAAQAABQAAAAABAAACAAAAAAEAAAAAAAAAAQAAAQAAAAADAAACAAAAAAEAAAMAAAAAAQAAAQAA\n",
       "AAABAAACAAAAAAEAAAMAAAAAAQAAAQAAAAABAAAEAAAAAAIAAAEAAAAAAQAABAAAAAACAAABAAAA\n",
       "AAEAAAMAAAAAAQAAAQAAAAABAAADAAAAAAEAAAEAAAAABgAAAgAAAAABAAAFAAAAAAEAAAIAAAAA\n",
       "AQAAAAAAAAABAAABAAAAAAEAAAMAAAAAAQAAAQAAAAADAAACAAAAAAEAAAMAAAAAAQAAAQAAAAAB\n",
       "AAADAAAAAAEAAAEAAAAAAQAABAAAAAACAAABAAAAAAEAAAIAAAAAAQAABAAAAAACAAABAAAAAAQA\n",
       "AAIAAAAAHHN0c2MAAAAAAAAAAQAAAAEAAACWAAAAAQAAAmxzdHN6AAAAAAAAAAAAAACWAAAO4gAA\n",
       "AEsAAACNAAAALQAAADAAAABAAAAAbgAAAFMAAABwAAAAJgAAAD4AAABsAAAARQAAADkAAABNAAAA\n",
       "RwAAAC4AAABMAAAARwAAAE8AAAB3AAAAUAAAALYAAABxAAAAfgAAADMAAABMAAAAbAAAAGoAAAAu\n",
       "AAAAawAAADMAAABmAAAANgAAADwAAABmAAAAKQAAAHMAAABJAAAARgAAAFcAAAAwAAAAPAAAAEQA\n",
       "AABNAAAAPwAAAHgAAABtAAAAVQAAAHoAAABYAAAAeQAAAF4AAABwAAAASQAAAI0AAAA0AAAAJgAA\n",
       "AGEAAABUAAAAPQAAADkAAABAAAAAKAAAAJwAAAA5AAAAXQAAADwAAABdAAAAOgAAAFYAAAA0AAAA\n",
       "WwAAAG4AAADVAAAAmQAAAIwAAAA5AAAAXAAAAD8AAAB+AAAAMQAAAH8AAABTAAAAMQAAAIsAAAA0\n",
       "AAAARQAAADEAAAAqAAAAOwAAADwAAABMAAAAZQAAADYAAABZAAAAZAAAAD8AAACPAAAAbAAAAEEA\n",
       "AAB3AAAAuQAAAG8AAABiAAAAzAAAADYAAAB4AAAAXgAAACsAAACXAAAAPwAAADoAAACNAAAAQQAA\n",
       "ACcAAABrAAAALAAAAFsAAAArAAAATgAAAF8AAABLAAAAVAAAAGYAAABQAAAArAAAAKQAAABGAAAA\n",
       "kgAAAOkAAAA2AAAAdAAAAHEAAABdAAAAdwAAADkAAABkAAAAKgAAAFwAAAAzAAAAPAAAAFYAAABV\n",
       "AAAALwAAADAAAABSAAAAWQAAAD0AAABYAAAAFHN0Y28AAAAAAAAAAQAAADAAAABidWR0YQAAAFpt\n",
       "ZXRhAAAAAAAAACFoZGxyAAAAAAAAAABtZGlyYXBwbAAAAAAAAAAAAAAAAC1pbHN0AAAAJal0b28A\n",
       "AAAdZGF0YQAAAAEAAAAATGF2ZjU5LjI3LjEwMA==\n",
       "\">\n",
       "  Your browser does not support the video tag.\n",
       "</video>"
      ],
      "text/plain": [
       "<IPython.core.display.HTML object>"
      ]
     },
     "execution_count": 14,
     "metadata": {},
     "output_type": "execute_result"
    },
    {
     "data": {
      "image/png": "[encoded data removed]",
      "text/plain": [
       "<Figure size 640x480 with 1 Axes>"
      ]
     },
     "metadata": {},
     "output_type": "display_data"
    }
   ],
   "source": [
    "fig, ax = plt.subplots()\n",
    "def animate(t):\n",
    "    \n",
    "    ax.clear()\n",
    "    ax.set_xlim((val_positions[:,:,0].min(),val_positions[:,:,0].max()))\n",
    "    ax.set_ylim((val_positions[:,:,1].min(),val_positions[:,:,1].max()))\n",
    "    \n",
    "    sc = 10\n",
    "    x = val_positions[NS+t*sc,:,0]\n",
    "    y = val_positions[NS+t*sc,:,1]\n",
    "    \n",
    "    ax.scatter(x,y)\n",
    "    tx = positions[t*sc,:,0]\n",
    "    ty = positions[t*sc,:,1]\n",
    "    \n",
    "    ax.scatter(tx,ty)\n",
    "anim = FuncAnimation(fig, animate, frames=150, interval=20)\n",
    "\n",
    "HTML(anim.to_html5_video())"
   ]
  },
  {
   "cell_type": "code",
   "execution_count": null,
   "id": "2d16ecb1-acd3-4c97-980e-fee4abf17ac6",
   "metadata": {},
   "outputs": [],
   "source": []
  }
 ],
 "metadata": {
  "kernelspec": {
   "display_name": "Python 3 (ipykernel)",
   "language": "python",
   "name": "python3"
  },
  "language_info": {
   "codemirror_mode": {
    "name": "ipython",
    "version": 3
   },
   "file_extension": ".py",
   "mimetype": "text/x-python",
   "name": "python",
   "nbconvert_exporter": "python",
   "pygments_lexer": "ipython3",
   "version": "3.8.16"
  }
 },
 "nbformat": 4,
 "nbformat_minor": 5
}
