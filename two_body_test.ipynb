{
 "cells": [
  {
   "cell_type": "code",
   "execution_count": 1,
   "id": "68caa357-9f45-4ad9-9f93-08e052a99a3b",
   "metadata": {
    "tags": []
   },
   "outputs": [
    {
     "name": "stdout",
     "output_type": "stream",
     "text": [
      "run, logs/8, 8\n"
     ]
    },
    {
     "name": "stderr",
     "output_type": "stream",
     "text": [
      "/home/apervez/miniconda3/envs/lpode/lib/python3.8/site-packages/lightning_fabric/plugins/environments/slurm.py:165: PossibleUserWarning: The `srun` command is available on your system but is not used. HINT: If your intention is to run Lightning on SLURM, prepend your python command with `srun` like so: srun python3.8 /home/apervez/miniconda3/envs/lpode/lib/python3.8 ...\n",
      "  rank_zero_warn(\n",
      "GPU available: True (cuda), used: True\n",
      "TPU available: False, using: 0 TPU cores\n",
      "IPU available: False, using: 0 IPUs\n",
      "HPU available: False, using: 0 HPUs\n",
      "/home/apervez/miniconda3/envs/lpode/lib/python3.8/site-packages/pytorch_lightning/trainer/connectors/logger_connector/logger_connector.py:67: UserWarning: Starting from v1.9.0, `tensorboardX` has been removed as a dependency of the `pytorch_lightning` package, due to potential conflicts with other packages in the ML ecosystem. For this reason, `logger=True` will use `CSVLogger` as the default logger, unless the `tensorboard` or `tensorboardX` packages are found. Please `pip install lightning[extra]` or one of them to enable TensorBoard support by default\n",
      "  warning_cache.warn(\n"
     ]
    }
   ],
   "source": [
    "import sys\n",
    "\n",
    "import torch\n",
    "import numpy as np\n",
    "import mediapy as mp\n",
    "from torch.utils.data import DataLoader, random_split\n",
    "from torchvision import transforms\n",
    "from torch.nn import functional as F\n",
    "import nbody.two_body_multi_sparse_sys as model\n",
    "\n",
    "torch.set_printoptions(precision=4, linewidth=500, sci_mode=True)"
   ]
  },
  {
   "cell_type": "code",
   "execution_count": 2,
   "id": "c262bcea-b36c-4b10-a558-fb07119c2c70",
   "metadata": {},
   "outputs": [
    {
     "name": "stdout",
     "output_type": "stream",
     "text": [
      "Using double precision solver\n",
      "lp device None\n"
     ]
    },
    {
     "name": "stderr",
     "output_type": "stream",
     "text": [
      "/home/apervez/work/mnn/solver/lp_sparse_forward_diff.py:277: UserWarning: Creating a tensor from a list of numpy.ndarrays is extremely slow. Please consider converting the list to a single numpy.ndarray with numpy.array() before converting to a tensor. (Triggered internally at ../torch/csrc/utils/tensor_new.cpp:245.)\n",
      "  mask_A = torch.sparse_coo_tensor([eq_rows,eq_columns-1],mask_values,\n",
      "/home/apervez/work/mnn/solver/lp_sparse_forward_diff.py:376: UserWarning: To copy construct from a tensor, it is recommended to use sourceTensor.clone().detach() or sourceTensor.clone().detach().requires_grad_(True), rather than torch.tensor(sourceTensor).\n",
      "  self.derivative_row_sorted = torch.tensor(row_sorted)\n",
      "/home/apervez/work/mnn/solver/lp_sparse_forward_diff.py:377: UserWarning: To copy construct from a tensor, it is recommended to use sourceTensor.clone().detach() or sourceTensor.clone().detach().requires_grad_(True), rather than torch.tensor(sourceTensor).\n",
      "  self.derivative_column_sorted = torch.tensor(column_sorted)\n",
      "/home/apervez/work/mnn/solver/lp_sparse_forward_diff.py:388: UserWarning: To copy construct from a tensor, it is recommended to use sourceTensor.clone().detach() or sourceTensor.clone().detach().requires_grad_(True), rather than torch.tensor(sourceTensor).\n",
      "  self.eq_row_sorted = torch.tensor(row_sorted)\n",
      "/home/apervez/work/mnn/solver/lp_sparse_forward_diff.py:389: UserWarning: To copy construct from a tensor, it is recommended to use sourceTensor.clone().detach() or sourceTensor.clone().detach().requires_grad_(True), rather than torch.tensor(sourceTensor).\n",
      "  self.eq_column_sorted = torch.tensor(column_sorted)\n",
      "/home/apervez/miniconda3/envs/lpode/lib/python3.8/site-packages/lightning_fabric/plugins/environments/slurm.py:165: PossibleUserWarning: The `srun` command is available on your system but is not used. HINT: If your intention is to run Lightning on SLURM, prepend your python command with `srun` like so: srun python3.8 /home/apervez/miniconda3/envs/lpode/lib/python3.8 ...\n",
      "  rank_zero_warn(\n",
      "LOCAL_RANK: 0 - CUDA_VISIBLE_DEVICES: [0]\n",
      "\n",
      "  | Name  | Type     | Params\n",
      "-----------------------------------\n",
      "0 | model | EPHModel | 9.8 M \n",
      "-----------------------------------\n",
      "9.8 M     Trainable params\n",
      "0         Non-trainable params\n",
      "9.8 M     Total params\n",
      "39.023    Total estimated model params size (MB)\n"
     ]
    },
    {
     "data": {
      "application/vnd.jupyter.widget-view+json": {
       "model_id": "",
       "version_major": 2,
       "version_minor": 0
      },
      "text/plain": [
       "Sanity Checking: 0it [00:00, ?it/s]"
      ]
     },
     "metadata": {},
     "output_type": "display_data"
    },
    {
     "name": "stderr",
     "output_type": "stream",
     "text": [
      "/home/apervez/miniconda3/envs/lpode/lib/python3.8/site-packages/pytorch_lightning/trainer/connectors/data_connector.py:430: PossibleUserWarning: The dataloader, val_dataloader, does not have many workers which may be a bottleneck. Consider increasing the value of the `num_workers` argument` (try 48 which is the number of cpus on this machine) in the `DataLoader` init to improve performance.\n",
      "  rank_zero_warn(\n",
      "/home/apervez/miniconda3/envs/lpode/lib/python3.8/site-packages/torch/utils/data/dataloader.py:560: UserWarning: This DataLoader will create 12 worker processes in total. Our suggested max number of worker in current system is 10, which is smaller than what this DataLoader is going to create. Please be aware that excessive worker creation might get DataLoader running slow or even freeze, lower the worker number to avoid potential slowness/freeze if necessary.\n",
      "  warnings.warn(_create_warning_msg(\n",
      "/home/apervez/miniconda3/envs/lpode/lib/python3.8/site-packages/pytorch_lightning/loops/fit_loop.py:280: PossibleUserWarning: The number of training batches (63) is smaller than the logging interval Trainer(log_every_n_steps=500). Set a lower value for log_every_n_steps if you want to see logs for the training epoch.\n",
      "  rank_zero_warn(\n"
     ]
    },
    {
     "data": {
      "application/vnd.jupyter.widget-view+json": {
       "model_id": "6ffba7f1880e4df2bf35acf62941fa88",
       "version_major": 2,
       "version_minor": 0
      },
      "text/plain": [
       "Training: 0it [00:00, ?it/s]"
      ]
     },
     "metadata": {},
     "output_type": "display_data"
    },
    {
     "name": "stderr",
     "output_type": "stream",
     "text": [
      "/home/apervez/miniconda3/envs/lpode/lib/python3.8/site-packages/pytorch_lightning/trainer/call.py:54: UserWarning: Detected KeyboardInterrupt, attempting graceful shutdown...\n",
      "  rank_zero_warn(\"Detected KeyboardInterrupt, attempting graceful shutdown...\")\n"
     ]
    }
   ],
   "source": [
    "batch_size=30\n",
    "#Double precision solving. Single precision is faster but solving can lead to NaN's. Lower learning rate for single precision.\n",
    "solver_dbl=True \n",
    "learning_rate=0.0001\n",
    "\n",
    "method, datamodule = model.build_model(batch_size, solver_dbl, learning_rate)\n",
    "model.train(method, datamodule)"
   ]
  },
  {
   "cell_type": "code",
   "execution_count": 2,
   "id": "87ef45f9-c6af-4d85-95f3-1aef7483e7ba",
   "metadata": {
    "tags": []
   },
   "outputs": [
    {
     "name": "stderr",
     "output_type": "stream",
     "text": [
      "/home/apervez/miniconda3/envs/lpode/lib/python3.8/site-packages/lightning_fabric/plugins/environments/slurm.py:165: PossibleUserWarning: The `srun` command is available on your system but is not used. HINT: If your intention is to run Lightning on SLURM, prepend your python command with `srun` like so: srun python3.8 /home/apervez/miniconda3/envs/lpode/lib/python3.8 ...\n",
      "  rank_zero_warn(\n",
      "LOCAL_RANK: 0 - CUDA_VISIBLE_DEVICES: [0]\n",
      "\n",
      "  | Name  | Type     | Params\n",
      "-----------------------------------\n",
      "0 | model | EPHModel | 9.8 M \n",
      "-----------------------------------\n",
      "9.8 M     Trainable params\n",
      "0         Non-trainable params\n",
      "9.8 M     Total params\n",
      "39.023    Total estimated model params size (MB)\n"
     ]
    },
    {
     "data": {
      "application/vnd.jupyter.widget-view+json": {
       "model_id": "",
       "version_major": 2,
       "version_minor": 0
      },
      "text/plain": [
       "Sanity Checking: 0it [00:00, ?it/s]"
      ]
     },
     "metadata": {},
     "output_type": "display_data"
    },
    {
     "name": "stderr",
     "output_type": "stream",
     "text": [
      "/home/apervez/miniconda3/envs/lpode/lib/python3.8/site-packages/pytorch_lightning/trainer/connectors/data_connector.py:430: PossibleUserWarning: The dataloader, val_dataloader, does not have many workers which may be a bottleneck. Consider increasing the value of the `num_workers` argument` (try 48 which is the number of cpus on this machine) in the `DataLoader` init to improve performance.\n",
      "  rank_zero_warn(\n",
      "/home/apervez/miniconda3/envs/lpode/lib/python3.8/site-packages/torch/utils/data/dataloader.py:560: UserWarning: This DataLoader will create 12 worker processes in total. Our suggested max number of worker in current system is 10, which is smaller than what this DataLoader is going to create. Please be aware that excessive worker creation might get DataLoader running slow or even freeze, lower the worker number to avoid potential slowness/freeze if necessary.\n",
      "  warnings.warn(_create_warning_msg(\n",
      "/home/apervez/miniconda3/envs/lpode/lib/python3.8/site-packages/pytorch_lightning/loops/fit_loop.py:280: PossibleUserWarning: The number of training batches (63) is smaller than the logging interval Trainer(log_every_n_steps=500). Set a lower value for log_every_n_steps if you want to see logs for the training epoch.\n",
      "  rank_zero_warn(\n"
     ]
    },
    {
     "data": {
      "application/vnd.jupyter.widget-view+json": {
       "model_id": "709ed60962e447c29c695175fd41bc4d",
       "version_major": 2,
       "version_minor": 0
      },
      "text/plain": [
       "Training: 0it [00:00, ?it/s]"
      ]
     },
     "metadata": {},
     "output_type": "display_data"
    },
    {
     "name": "stderr",
     "output_type": "stream",
     "text": [
      "/home/apervez/miniconda3/envs/lpode/lib/python3.8/site-packages/pytorch_lightning/trainer/call.py:54: UserWarning: Detected KeyboardInterrupt, attempting graceful shutdown...\n",
      "  rank_zero_warn(\"Detected KeyboardInterrupt, attempting graceful shutdown...\")\n"
     ]
    }
   ],
   "source": []
  },
  {
   "cell_type": "code",
   "execution_count": 6,
   "id": "8e5b3011-a77a-4a55-8178-4a9fa238a924",
   "metadata": {
    "tags": []
   },
   "outputs": [
    {
     "name": "stdout",
     "output_type": "stream",
     "text": [
      "torch.Size([2000, 1, 2, 2])\n",
      "exec\n"
     ]
    }
   ],
   "source": [
    "idx =0\n",
    "device='cuda'\n",
    "NS=50\n",
    "@torch.no_grad()\n",
    "def run_inference(method, x,v,idx, steps):\n",
    "    method.to(device)\n",
    "    positions = []\n",
    "    velocities = []\n",
    "    accs = []\n",
    "    forces = []\n",
    "    coeffs_list = []\n",
    "    for step in range(steps):\n",
    "        x = x.to(device)\n",
    "        v = v.to(device)\n",
    "        \n",
    "        x_out, v_out = method.inference((x,v))\n",
    "        \n",
    "        x = x_out[:,10:NS+10,:,:]\n",
    "        v = v_out[:,10:NS+10,:,:]\n",
    "        \n",
    "        x_out = x_out.squeeze()\n",
    "        v_out = v_out.squeeze()\n",
    "        \n",
    "        x_out = x_out[0,NS:NS+10].squeeze(0).cpu().numpy()\n",
    "        v_out = v_out[0,NS:NS+10].squeeze(0).cpu().numpy()\n",
    "        \n",
    "        positions.append(x_out)\n",
    "        velocities.append(v_out)\n",
    "    positions = np.vstack(positions)\n",
    "    velocities = np.vstack(velocities)\n",
    "    \n",
    "    return positions, velocities\n",
    "\n",
    "x = datamodule.val_dataset.positions\n",
    "v = datamodule.val_dataset.velocities\n",
    "\n",
    "print(x.shape)\n",
    "#Batch size is fixed beforehand. TODO: fix.\n",
    "initial_x = x[idx:NS,:,:, :].unsqueeze(0).repeat(batch_size,1,1,1,1)\n",
    "initial_v = v[idx:NS,:,: :].unsqueeze(0).repeat(batch_size,1,1,1,1)\n",
    "positions, velocities = run_inference(method, initial_x, initial_v,idx, steps=200)"
   ]
  },
  {
   "cell_type": "code",
   "execution_count": 4,
   "id": "a7a94428-442d-4795-b98c-d7fc90993168",
   "metadata": {
    "tags": []
   },
   "outputs": [
    {
     "data": {
      "text/plain": [
       "(2500, 2, 2)"
      ]
     },
     "execution_count": 4,
     "metadata": {},
     "output_type": "execute_result"
    }
   ],
   "source": [
    "positions.shape"
   ]
  },
  {
   "cell_type": "code",
   "execution_count": 22,
   "id": "bcc189ac-2e48-4a84-a600-ce7266ce0410",
   "metadata": {
    "tags": []
   },
   "outputs": [
    {
     "data": {
      "text/plain": [
       "(2000, 1, 2, 2)"
      ]
     },
     "execution_count": 22,
     "metadata": {},
     "output_type": "execute_result"
    }
   ],
   "source": [
    "target_positions = datamodule.val_dataset.positions.cpu().numpy()\n",
    "train_positions = datamodule.train_dataset.positions.cpu().numpy()\n",
    "target_positions.shape"
   ]
  },
  {
   "cell_type": "code",
   "execution_count": 23,
   "id": "c5234bf4-0506-4e7d-9e89-7fbce8ca963e",
   "metadata": {
    "tags": []
   },
   "outputs": [],
   "source": [
    "positions= positions.squeeze()\n",
    "target_positions = target_positions.squeeze()"
   ]
  },
  {
   "cell_type": "code",
   "execution_count": 24,
   "id": "b0e08185-0069-405f-958e-3f19cafbafd4",
   "metadata": {
    "tags": []
   },
   "outputs": [],
   "source": [
    "import matplotlib.pyplot as plt\n",
    "\n",
    "%matplotlib inline\n",
    "from IPython.display import HTML\n",
    "\n",
    "from matplotlib.animation import FuncAnimation"
   ]
  },
  {
   "cell_type": "code",
   "execution_count": 25,
   "id": "846dcea1-2b49-4b98-9e9d-62893adaa029",
   "metadata": {
    "tags": []
   },
   "outputs": [
    {
     "name": "stdout",
     "output_type": "stream",
     "text": [
      "fig\n"
     ]
    },
    {
     "data": {
      "image/png": "[encoded data removed]",
      "text/plain": [
       "<Figure size 640x480 with 1 Axes>"
      ]
     },
     "metadata": {},
     "output_type": "display_data"
    }
   ],
   "source": [
    "ax = plt.subplot(1,1,1)\n",
    "#ax2 = plt.subplot(1,2,2)\n",
    "nstep=2000\n",
    "nbodies = positions.shape[1]\n",
    "\n",
    "for i in range(nbodies):\n",
    "#for i in range(4,5):\n",
    "    ax.plot(positions[:nstep,i,0], positions[:nstep,i,1], label='pred {i}')\n",
    "    ax.plot(target_positions[NS:nstep,i,0], target_positions[NS:nstep,i,1], linestyle='--', label='Object {i}')\n",
    "\n",
    "ax.axis('off')\n",
    "print('fig')"
   ]
  },
  {
   "cell_type": "code",
   "execution_count": 26,
   "id": "b800e469-c5f0-4ad8-ab7a-d0f94fb85f03",
   "metadata": {
    "tags": []
   },
   "outputs": [
    {
     "name": "stdout",
     "output_type": "stream",
     "text": [
      "Animation.save using <class 'matplotlib.animation.FFMpegWriter'>\n",
      "MovieWriter._run: running command: ffmpeg -f rawvideo -vcodec rawvideo -s 640x480 -pix_fmt rgba -r 50.0 -loglevel error -i pipe: -vcodec h264 -pix_fmt yuv420p -y /tmp/tmpkh12qz1i/temp.m4v\n"
     ]
    },
    {
     "data": {
      "text/html": [
       "<video width=\"640\" height=\"480\" controls autoplay loop>\n",
       "  <source type=\"video/mp4\" src=\"data:video/mp4;base64,AAAAIGZ0eXBNNFYgAAACAE00ViBpc29taXNvMmF2YzEAAAAIZnJlZQAARVNtZGF0AAACrwYF//+r\n",
       "3EXpvebZSLeWLNgg2SPu73gyNjQgLSBjb3JlIDE2NCByMzA5NSBiYWVlNDAwIC0gSC4yNjQvTVBF\n",
       "Ry00IEFWQyBjb2RlYyAtIENvcHlsZWZ0IDIwMDMtMjAyMiAtIGh0dHA6Ly93d3cudmlkZW9sYW4u\n",
       "b3JnL3gyNjQuaHRtbCAtIG9wdGlvbnM6IGNhYmFjPTEgcmVmPTMgZGVibG9jaz0xOjA6MCBhbmFs\n",
       "eXNlPTB4MzoweDExMyBtZT1oZXggc3VibWU9NyBwc3k9MSBwc3lfcmQ9MS4wMDowLjAwIG1peGVk\n",
       "X3JlZj0xIG1lX3JhbmdlPTE2IGNocm9tYV9tZT0xIHRyZWxsaXM9MSA4eDhkY3Q9MSBjcW09MCBk\n",
       "ZWFkem9uZT0yMSwxMSBmYXN0X3Bza2lwPTEgY2hyb21hX3FwX29mZnNldD0tMiB0aHJlYWRzPTE1\n",
       "IGxvb2thaGVhZF90aHJlYWRzPTIgc2xpY2VkX3RocmVhZHM9MCBucj0wIGRlY2ltYXRlPTEgaW50\n",
       "ZXJsYWNlZD0wIGJsdXJheV9jb21wYXQ9MCBjb25zdHJhaW5lZF9pbnRyYT0wIGJmcmFtZXM9MyBi\n",
       "X3B5cmFtaWQ9MiBiX2FkYXB0PTEgYl9iaWFzPTAgZGlyZWN0PTEgd2VpZ2h0Yj0xIG9wZW5fZ29w\n",
       "PTAgd2VpZ2h0cD0yIGtleWludD0yNTAga2V5aW50X21pbj0yNSBzY2VuZWN1dD00MCBpbnRyYV9y\n",
       "ZWZyZXNoPTAgcmNfbG9va2FoZWFkPTQwIHJjPWNyZiBtYnRyZWU9MSBjcmY9MjMuMCBxY29tcD0w\n",
       "LjYwIHFwbWluPTAgcXBtYXg9NjkgcXBzdGVwPTQgaXBfcmF0aW89MS40MCBhcT0xOjEuMDAAgAAA\n",
       "DCtliIQAK//+9nN8CmtHM5UuBXb3ZqPl0JLl+xBg+tAAAAMAAAMAABAP0t71zGJb5SAAAAnYAmqE\n",
       "6/rXZ5gAbPzhJeXNaRETCDjZybMILJXkqN66FdACv+sQ5bS/cE1ZBwj13lsXBsr979KmQNjTyY/h\n",
       "TF7EykT3NaOsZZKLn9QU4QSoVKiXCvUsfcuxDAPsi6kD05L5VU5sHXI6P9PeYYzFBAvOtDBxU9SY\n",
       "BCZV8YP1qpr3ZtWFmbjZ+O6aVlBkmo3kH1XQpQwrg3FmVzYqmgv5sJB7ItSr9L1T+RagS/xsgh2E\n",
       "Tq15eqY1mt7JXZBtgWaiZ2UzjPYvwy/ojulKhz7ZFsdpAGjddbA4zPyRt2T8v94iSUhgir3YkpfS\n",
       "bWh8ivnN7fmxnAr5Py8oP8sdoDZWI6i8yrDowWUHGIVZt7LplzRaViDPQc9kNFACec+/L6/ASlGn\n",
       "QHArOIkRsQGlmrUOIRyFr/LqZ72Pw0e8jzyssqI1/wZNRdi9o8NcKdVfO/0sXq2R3Xod0boocTs4\n",
       "JuE8Z2Hr/xqxAdJCJwV/+YLCW6o+5GtiSLCifDQ2xRS2SwIklS1OHWL4I8R3LlgpCAA2dOo9ruNB\n",
       "fxk8r9wuX+LsbWB6d2odNNWOuYssBC0GzHzptulfZ/HgAAA25r0WYLf2TsPC85PUc/gUtKDpYIfK\n",
       "yUeqdB4QjHYNN2owJr2R3sjUEv2sOgVJuInk2Y6N3a94AnuuhociR1nKlmdex+A8AAnGh1euGIDp\n",
       "6p7RJt9YUBcPmhBqf+HVj52dGdw1DO6NmymN0OVcJ1xb3TW2SgcBum+nem6D55nVNZYkX8b52Rc/\n",
       "Qtw/ggX9uq7iOVrPaTLHKpRBMpdeaMttd1wLUovkFalkQPzFQe19PxwsDG2kr5yK+jVM19KQrJ7A\n",
       "T/xTlIwTBVWVQ7UMHK4YfCOVTAGxtufCuUbxF6QP7H4RsMHLzOzGbQxEI/X+jK3xNUjykusKaj/V\n",
       "sbGnY1tycLywgo0x/k/ZIH66biNfHBh4UyISHIDAAANPeMAF9hgYIMCKMkoauqKuT1OmM8kvoliT\n",
       "Y70SOwz5ECTziVLaATP4Gx4BA15bzjga0xtA8dmtVs+GUPLe8btAUHAyan+pedewE2Q6UBpv39aG\n",
       "ACoIVcHC5uyTzMZplGgOmRSoSn2VObUc9W0mnAPQeALixkIreRVGLHPKFJQPykrG69QujeiD375W\n",
       "7HkfHMjrETQf93FhlAyix/46e+lOWLaeaAADb6BCc+R78YbAHy98f257bp4liKc2eHU7O0fJy8Z+\n",
       "t27cxBJ1Uy5+XTcRRAyGOXUH7PAFoMs9OyHVFYwInCel6GgJSsZ2AajR/JBD5GRAGea1NfngDtgg\n",
       "dZ8HwtaGu9mtprLp5S7uLRlI7xns6Il/pyrtLvqHgaJHGH5Sbe8vQ9+FFbe5yP50OnSBVcmh6L/J\n",
       "AGKWk0KcMuPJDMbKwvLZlnebgjhndA2HOMHQf3YlOFjl5/GBGZSmlkrgCvT0bfV1JO4LiNb7k/yQ\n",
       "Bh3HUk7PeJYvnUKGjpgRNUMgqFa7LK7383gz308E3FhKeb7WzcXwWrkZG7ynXPWQ5DhbayNdGQFN\n",
       "//h807HEIkDRh8cASGkT/FrHaz106XhG8jjrh51/HajtdU3xcV1Mw74VWE8FmIJg0ANpVrUIgAAH\n",
       "EmOwAGrIBJswTLbqyQr6q4ywWdLswc7Wv7kA9EyoLM1VCNtmktqxi/43cpoIVZAcQZE7Pnlf5jx1\n",
       "KUW8z5tgL5V9iX+deqKLkLcOlDGYtDmmNZa1VG1W54ECgEAER4Su2atSxyCuZNzvQXCxRKZ85pRo\n",
       "vcRcG1qJ0WlvbZlohf+KHrsCGR+lZEFIF/cDpS/6Kzz9qHPZh8E+x5WPOnMC1eCeUcHJjXBXW3+N\n",
       "v/ulT41pW2OlkXxfSpGDH4YgMDU9G4FANnocIrv4njpA5gx0IgqDbkTo59AEaZ/zSIfOfa+mHeFU\n",
       "MVu5rPiqmklQAB0BLcAObECg6Av9Nt/9t49XuCZuX9VarNjPVRrC7hktiZAQOtgJivvg1Xlh7oHf\n",
       "xaZctNcYWkPdqCGAmwgSkJKeCI6h57wREuyLgWlx1A4VTgS++sJ/mSJyM5c8FU4LJ5sYrBAWFi0l\n",
       "+VWC75qj2bMSaI/4b/q6EfAqXr9hgEjfm7yWSxU1uony9cy0mU6s3iKdsYQhZkHRKeEeHd4Aynoe\n",
       "IssnFAGJvaR+KZB/woVVkaXOdjRFH4BwHwbNcqtYaAlwquMPSyKo/8LfmD5SRapux/FN8sn1ZylQ\n",
       "GhEmR6AzLRBJpCzrOiWRr6W7nqzA7kOL19JwoSyf96Ssb0chSzvwv2ebpY/UTUgpXS5xltNUIoua\n",
       "wmu7ZWJLVJt9KiSMNfRuyW5bj9rT+CbcnYcjz179SC7C7C73YkDJEay9V0IXipCZ8OPlbH/ZotOS\n",
       "gaNy7vwIoQhIGNpj0QXz9cAA/AD9bJwyRk+T7Je5f7dWRsdmJga1av3n/eRGma+hjaCvd2KGXD1q\n",
       "TgvWF5nZesMrNy5SY9CPy02Y/I5FjZz5quxUMJyPDYToQ8ww9xlXqghPKce9+xL/2GFDKL876itz\n",
       "h2jK2NI209AbIhaYTakR+qs39OEJXL4RNgSeO6NzanwNNYGDH4DMj2v+heNSsupz07l85J9wN6rJ\n",
       "sRBMF62Yi8p+R7Wjt0EveplY39K7asF1rB9ltQ7rqJx4BTcx4NkXSzfDJvJzC3mrW3f+5Car9k4B\n",
       "hmHoFYTq6S8eOCUbePvvHWG3A3AI82tV/CYRYEVL2wPuZCkSX2Jpw1s4cY2kOutdui5lpej79oYZ\n",
       "IJ+WgREIPuuZr+wwBI657b5MJAh0OwytoWzkqyGNRQTUsP/ORQlzU4/Q8/qAcYCo4v/htkDgfjKA\n",
       "wwBxi6scI66K7SneJPHL63aD+8qGHow8tTHk64l955Coc+RMKh2TQLiQqrP0sjqdeDTSJUnFOiFl\n",
       "1sWZRemYZLRxvT0Z0BysFjmCB7w3B2GMwl9UohFYVoX1B3z4wPJ24VSDJgJ0GOua0muOqvYMscr+\n",
       "3l0O2nGVMMTHuCiru+NH/sycWkp+oaojXS3inu5fuu/6wlx+30Q+cwfBfVuuS2teMJd1YyyXTYsE\n",
       "qyFkIMMMgP0PPuxJskQg+tz5C4XHXIiK8yom/aNBMSDvVGG0RgbxUrwy/1oZ3mIA/zC5pRR9Pqa1\n",
       "j4FXfUcxciaNeA83TsUUkxKgJIsrads4tbYBmlOq2r8Hbi5K0KWPmGIl+wPk35DCdSGUqyjrTKkg\n",
       "GmOiz9LoPqLA2q+CAcPVNaUcP/JS+t5UFOzlr19uzjOLMBOAwENC/4tvasHui0fIvmp2Ie4hcjJL\n",
       "mwEAlgNm1aQ7q5nkl+UVIN5U+9QO/aoJsBBmfVXGeaR2Ugx8Fb7X0OYi6nbwQwkczgc6Bg5F+Txd\n",
       "5Xrk2hZqChH50KLRUq1HDG2AIo34zXSYPbCSLc9aCMMLpZZjXV7PbpxaZVKo794hPIwg1zNbUOKF\n",
       "HmeuwrWSOlCxUFAXFYwJ/n7YqbJ/9ftCLqo1sEApmvtFhSvFmekCNzwiGi3IlT0dXRWshCA8QMhr\n",
       "RXukruMZApHTfT7eS9IsvmYDkrZ8pak8sEx8zciRyVqvsiUIjxKGOcWiT1kGJGaSTePUmAMEVSfJ\n",
       "nT6/oICzMyi6VY16D2IMMmrA66jDtaWNmY1qGu7KYv5IajZUsuWYYrHGHtDG5dTZB4inX9bxJ+n9\n",
       "MG60Y/q6Z+CpusBed7Vatq9ZZOPF+/SwpC7gZwSlWAeWwIE7QNop8fA3W3qR2RvxiNfkgx+1lDqu\n",
       "wrUonuEUZIW0KdBcs/PxA+ixbi4PuTS7aWAAqV2sIQyEO55Ef3/XZDhITB8kSmFi0DzzkuQhkDIu\n",
       "vVzTMCpqeNWwEisi2bcG5TOyleUf39iFHMwY5JGs4EAeldzO3Bp8D9N3ebDS98tmpA1T12lIz896\n",
       "2169/QmxQz/LFIX8brTt0BXuc3HBCaKJoCVrE4lNl7CtGP2QGPyzaKHPgB4Nh8M4HrdY40ZjxsAW\n",
       "OZf9YejYBZ4GSilZMc/S+XTc8AaPaI+69aF6KN3j9X9GB8f92v4aC2CiJkwNC9b+/p1qZKWXklGM\n",
       "5PO7jofajxgc8K5QGXPUkOvpEm226m0Z6ocYrM15y70W2E7oAAi5AAAAR0GaIWxC//6MsABst+xn\n",
       "VaehbniJOnEbhKWvAAb2SaLrPIwwI8RhrqRssZOgX9jiS9ES2yG0gcq5w5uYQ0TvQz8Gjm+OC/1B\n",
       "AAAAg0GaRDwhkymEK//+OEAD5aq95kUIXAA4s4gSx0WDQMTwvla4dgeR6Po/dLZ1Q+7i8Qe001CN\n",
       "gYZ0/DUpvaVxdyJRKoew+uC6gsUyvTULjBS5PBNVEm9Iwmq5Kv5sFwx3J1kqXe9xYq7gTIFayM3d\n",
       "YsiEwu+UOuQEoakPTezQRzLouAthAAAAKUGeYmpTwj8AVDFEq39CO0lB1btnL91AAABLZrOd8Rk7\n",
       "jucyucYkLMhsAAAALAGeg2pH/wCCjojWx4x8c3pkhYlw5NiUDQAmqSFybNda4AAAcVoUJiwRWjUh\n",
       "AAAAZ0GahUmoQWiZTAhX//44QAP7qr3BUZQCvALm8aCtCt402BijAPSxoG30GXTEj4Fcpcu8NHWU\n",
       "CHRrzbmxQag9YGPS1GrHATBvE88k7dLJpwlyOOagmyz+ziFO1ce489quExfAAAADAssAAABqQZqn\n",
       "SeEKUmUwURLCv/44QAPhbvkvwIAVmNsLz3GxWlc39B1/WBreLFZtzOS3ebWY8L3zCbOii/U/WnJG\n",
       "vvfdEJiZav/JuvUFEV28aCg7MKAIFIhktGfPSPwNCCSNz7VdnKcsNgAAAwA3oQAAAEsBnsZqR/8A\n",
       "grjLq9Dsb/MCXTHKEVbAA/lyedHsI40HQOfrSV70vZ2J61DR7UJa41k1X1J0O/S+muorOpwBWRhw\n",
       "AAAzgBcqZcKXAccAAABbQZrJSeEOiZTBRMK//jhAA+Gf9McDV3BxrznnM62rS4NGLeADajLB0bwE\n",
       "uySIXPFzu2jxA6dmnS257ytMxgB25VTJ+U9NshlsZIBii3ZWMC3Wh1oUAAADAABlQAAAADMBnuhq\n",
       "R/8AgwAfAAH8p5pCWuLmSLqMQoa4D4ql6Wq8B0EsYc9yLaSmAAAGbUMqbXUQgWUAAABtQZrrSeEP\n",
       "JlMFPCv//jhAA+LAmh7rP6btsJCYgu/fq3DmVdDrAnx8QATtsx+MOx3kQyPo6Mz0c2jyFBVRiC0z\n",
       "hwnsCDJB7/xoTDY4zI0kc381mm6n9dJ32gdu5cCfBJsUXzPOZA3YR1BAAAAKKQAAACgBnwpqR/8A\n",
       "gjSc/9vHeA+8gV9BABelHhQADbsC6oAABahcB9sukAnYAAAASUGbDUnhDyZTBTwr//44QAPl7kXm\n",
       "z8KaM8jW2HwAen/cb0wa0v13+dFJ/c+AMFQwOWdYN64bZVLtU1j96UNhRTaxxH4AAAMA3oAAAAAk\n",
       "AZ8sakf/ADD3A5rWdkRBe0hRfaCqsX3EkAAANI9qB1LGAGVBAAAALkGbLknhDyZTAhX//jhAAXOJ\n",
       "Pcq40UVpf0fSr8rr2mO+0gmpu4PJJRwAAAMAcEEAAAByQZtPSeEPJlMCFf/+OEABc4m9BYTACEzg\n",
       "k3Gske8Q/IbycZHRoOkGBd3SKOxUBt8rdW4Vn+QhgjJpDzP7dZv6gimGL/n82ntY9K4eeCbMua1d\n",
       "uy6aAfR8Q+ublupEvnch79Bm4CaAN6ScEWj5914sdUF1AAAAPUGbcEnhDyZTAhX//jhAAXRP7UTX\n",
       "+0hoALXOoUzgV1cmwsAYAJC2Lr4tzDl4Mc9E5o3Zuj8WAAADAc45E1wAAABLQZuRSeEPJlMCFf/+\n",
       "OEABfw2d5ZqzAHUS8AIUwL68fygKjUNosXV7uj3ee5Immxg6gPEzGqg1z8QcPpEfPPoSliOMpCF6\n",
       "4PhyJo7eAAAAQUGbsknhDyZTAhX//jhAAX2zXMCXhMrSrPoE0BagAvrdNblZizvhreJ/Yfz+ChmT\n",
       "z7YAwVkUebjHgAACqvt8FfFhAAAAUkGb00nhDyZTAhX//jhAAIab/dJTqT0eUFnk4gBwZSNHE03m\n",
       "314JFvbj5/rDbPc81+O1vxO9Q5jJGnyhJ2jlqK6ynpCqOQptEaYPktLAAAADAdMAAABOQZv1SeEP\n",
       "JlMFETwr//44QACGp44wd8eWcn4CEAK/ZAasidtx34NUo1xxehDD+PRBwlxaPkpy8ptVZkVvUJq5\n",
       "/vnpHhbwWafXAAADAFNAAAAAQQGeFGpH/wAR2R0qUQW7seADj0OEcG92plzWp5YNKyjb3cQwTviE\n",
       "9KNnM9e4kVB8YSwfj6pzoQAACOsUZ5/KUgFJAAAA2UGaGEnhDyZTAhX//jhAADJ6q4PSeWPACwO1\n",
       "FFiyzKuPi81OMH6LbiOroZwlgdxeiFQCmiQPlSOcTMLpYE+HPVXkPOpxYhMq9XQjoyaPSWUOeEfO\n",
       "1XeA616RosjeSVcaUHU13jNHrZq9FLXsMvCNUxX9z5SI8C2ttNVxNlzHi7clMXvpN3ofIPtVU7Kb\n",
       "qSAkKI2coVzH5pPKv7u8kJD3jT/nn7JioZQSFKJZxwr4zb3su//tLJoJAcX74vTgdxXC6yKJmEKi\n",
       "OmxNCe2wpChiETP/O1VDQAAABSQAAABxQZ42RRE8I/8ABBeN7MGi8EtAnTABD4vRsg7skCz34y/X\n",
       "Wrw0N3sO9pUj+WsNWI/nPEyhsOang9eTAoRiY/pSvXmiM6TbSd9QuOVpBLK6t0Gq/CWtobpuT0I9\n",
       "+hcUGL8CbCZwAABkWZLTqv59TiFklbEAAAAoAZ5Xakf/AAaW+eOSf51EGGXPEpaF1zVfdQAfmjmc\n",
       "Jw8/PJ8wAAAR8QAAAGVBmllJqEFomUwIV//+OEAAMkDXOjDyncgO8pNLNOPgADTuu9+z6MCwdXaI\n",
       "pskB95WhMrt67carG8atf0ML4CABagpxau1B6OIJk9JNt3BQyI52o0MiEfXWTwOQtml0zX9/VxMW\n",
       "0gAAAEZBmnpJ4QpSZTAhX/44QAAyf9GkbqGfLp6gAx+1BPb85j/4XLrGIEc1XaHDNk4wM6dzEidG\n",
       "dkw5k8SB2WiXftteAAADACphAAAAQEGam0nhDomUwIX//oywAA0HCdQx/VptJ+YYZmP1uwvdspe/\n",
       "jGoUC9HZRZ808NLUktYfCcGjqZ3UL9wAAAMA/IAAAABKQZq9SeEPJlMFETwv//6MsAALfzLjzpOy\n",
       "CNB/dzPqd5+H544ALdpC4yvbbcWNt6HewSY17NnnkQ0g1h4hbOx8p6o3US94TAAABD0AAAApAZ7c\n",
       "akf/AAWsY8hFJVkLXPEwrneRACZsgdPu450tgAAGUhe1iFSyBWUAAABfQZrfSeEPJlMFPC///oyw\n",
       "AAslRvO57DHoA2Jz4FbO1xfh34Gb55/arGi99bNCZk6XgsKRWtyIpKyED0aDkwOOW8frMJi1Pjv8\n",
       "0CUKVNLIu7wTppHkRzI6Um2BOmZl3vgAAAA6AZ7+akf/AAWsTDWuDBPRUOJrsY4mx5gBLbMozxLC\n",
       "qUY5WKZKNXPqK/PzsrTutOVwAATRXSevX+gHxAAAAFlBmuJJ4Q8mUwIV//44QAArEXDHgqqsAQYq\n",
       "S0u95PfS+CWsWhxvsnTnnPs0wo0o47rgC/uYvt0uLyFy5ur0ORDR2vvhoWyev1ixdx6wB2iyqctE\n",
       "AAB37CYbFwAAAD9BnwBFETwj/wADfmYb/b+1SlXwDWmAE3ZZaom+vSbdFjqCPDT6juPJaq1KjzPD\n",
       "/loAAJ74I4K0/GkLeCJkq6AAAAAgAZ8hakf/AAWso7nekfT0CqubqzJUd1w+QAABDvCY/YsAAABv\n",
       "QZskSahBaJlMFPCv/jhAACsS7rGAImGKBQCMd5FfebgeDbcB3vKJBXJkmely/gh3XKPvg2Uf1JJV\n",
       "iPMBpY11VCE0R1TYLFLYnpZ8IrPSkUmfWI8Y1iFf1Di1c+gaIxMVS9dHTtAgAAGq/9sT+iqAAAAA\n",
       "LgGfQ2pH/wAFrzW8kWecKc/kNdkgD518I86hbW9+xT14AASSJPTAiNq/QS0yc3sAAACCQZtGSeEK\n",
       "UmUwUsK//jhAACsRF8xm0AIvq1hYGXs9dElbqCjU0dDmvJuhhIw/s8cYW+oQ1LnGfob0bGlmB+Um\n",
       "w93TskWSnGaEunViLB/DDN7c83vwW1lSJ85xEzicc4r/ple5ifYxvFdxNmmbmp+EkREgULea5HJr\n",
       "vMga+rTmz5O14wAAAEMBn2VqR/8ABbBn3r6Z8cp2++3S9H9TABa5H3Gk4iR9M5Hg4hwEv/woBt00\n",
       "PJLyU4XhY64AAS29ZLWZM04i7spq/okpAAAAXUGbZ0nhDomUwIV//jhAACsgDVna0QA3DI9XGVaB\n",
       "IIhafEwWqjwhbwDbwvjJuzvvzzeni7CzODghq08/bef52khZ0GY7U5oTaekyyW5/8TTt8uN4WAAD\n",
       "yFdJWclGwQAAAEJBm4lJ4Q8mUwUVPCv//jhAACte1rmalYo+OSH4z3O1SwLYXWKgDkyALKjieeZL\n",
       "h6bqgjlWTSu6D6wAAKoquabPGPAAAAAxAZ+oakf/AAWsWIdvGOccBGVONQAfpOY5ut4wnrnoPgwo\n",
       "x/kvOAABNVjfmoajZ6AGfAAAAEpBm6pJ4Q8mUwIV//44QAAPfiiAN1D3wOQJkSby/+h2HqkFAXEA\n",
       "CWTgOngXetMSDQvwg1HRD2SG8VFMAC5VP373oFN9z+Z+R/za3wAAAFtBm8tJ4Q8mUwIV//44QAAP\n",
       "hnIsH5UAAS4pPxEUwA8J8gRHHuhWlF7XgDsoTKPr52zSnuryaeXt4b5qOfxQ8rxgnibUWYEwYIQ/\n",
       "8+kItHvJL848miRRvoj6wLMIAAAATEGb7EnhDyZTAhX//jhAAA/u/4Gr3lGDAB4TlCA+oVREhs0+\n",
       "VPOZKMbcyGbywSwRdulPXIxHxQRNxuH+ZpcPAfWshXmbzfg0PAAAD8gAAABzQZoNSeEPJlMCFf/+\n",
       "OEAAD4WcJ7ZcspQP/IXrWlzr48KnOMioinqBLGjwmJ8SKTWOcB9E50RRMnLDJVpSxEI+KEKHPSBI\n",
       "GxP5XQNpOdwdQ/TW1Cr+zbdN9+vbL6jKqhcWa8JHfgyuurrk+hXjvYq5tCg6EQAAAEJBmi5J4Q8m\n",
       "UwIV//44QAAPl6kXm/YiEyaVygBarxQVETx6z7WlBSAzXYaOuabyeZ5IxPs/WrYWlrbvTKfW5MAA\n",
       "BqUAAACcQZpRSeEPJlMCFf/+OEAABdeT7Lx+q9Fqt5voNACaPUn/iEOkIv5uyRk3TdpF/Nh52Jxu\n",
       "GHZ1hCMVrDe8u+binQ2SPTzfIv8A7EE6CE+c04piBuTY5vLLsHZaRLykKvNufu5qszhR1E4Tvc7d\n",
       "34F62OlUcPIN8Olzjo3rxStF/gGqLFeO/y9cUxjSxavPlUU7Y008DmdtqQUAAAbNAAAAXkGeb0UR\n",
       "PCP/AAFZ6meWTvBaQ71UIL6IAP7aG7Pk/mm0P100KbZQwnE8rrU0heAmGoOXOmkOsIllVJg4fZLk\n",
       "Vs4WrCmJp3b0mtZk/GxPIAAGUEnxmZyhozXA1uf/K+AAAABcAZ6Qakf/AAIb8chk/Rvihaqv2NU3\n",
       "82yAATjU9giPeOLc/yuzoTt2AhWhfgXsToHHh8H7nFJpiRlNR6srFGHVvfTLos9AFqQ7l+PW5Vg3\n",
       "ZkP0aw7eQAAXQE7E440AAABxQZqSSahBaJlMCFf//jhAAAId0TXrU++gPI4AEPEk2z4bCZXHJamS\n",
       "4txlYQKor3y3FQUso0TDGAeYzcXEd73BuymIa2a4SmO3P9AX7ZU2hEY9nEHdp6sEpHsY36hEZTl+\n",
       "CwCENBtzsA+pBFOsAAADAQcAAACAQZqzSeEKUmUwIV/+OEAAAhnmLbDEqvv0oAAfhvwWaSQHEK6J\n",
       "hopxhsEEvuF5i2mrcplUZ9c2ZC2wMFwdogqzd0FWM9/dseoofivVM6yO0oYKa2Apeg52UO8mBhpB\n",
       "4gJp5WOYj/L4GcAWsO8vH102kVQTASUEUVL1pRpPqcY266AAAABvQZrUSeEOiZTAhX/+OEAAAhnm\n",
       "LicOV8MaABxvJT2uL0jhfVdCx1DoSenxedh4aC66OieHxbW8ZTrGg7GAnmvYdTzj5SbXTR0FyihO\n",
       "teStZCgAJa69U0IjVjHixSj7ao4sQbcxJo+GVBsyOgJRE04gAAAAU0Ga9UnhDyZTAhf//oywAACM\n",
       "HB2FzbU/IgMuDrLiOzwTL+1/LghEKutceByPL1dDZrvNBpGWq/e9939itPz2sd1hGDZKnP7OYgdA\n",
       "aT4AAEQt2faBAAAAn0GbF0nhDyZTBRE8L//+jLAAAHc5feoifABFmbk2n1crGtQ9OGInAiublXcu\n",
       "2KgyUydUtgIUHI1dcWgJ+lk3zzFhx7v93KvVHZ+bQfi9Udzgq4uzpsXb924aVGCEr4yQoU2zLWcM\n",
       "SLnUoEEWnyFGw3rDJX3HxketW/sFCqMeXB+kaxaryynpWmjZPCyubo15fJ117NS1a4vcSicXjdX0\n",
       "gAAAADEBnzZqR/8AADyKUG4vJ/vfqosr58FwFX3qOYAP7B/UupeItgLKAANw6GsAWTqxEIyBAAAA\n",
       "cEGbOUnhDyZTBTwv//6MsAAAd71C7Va8Ls7/slVNYAbk1HhsFYCiYaB/YKHytHxxhPemcSkeyGK6\n",
       "fC0UQZzQO8ZeF7/W+huMcA2lXLOPLqM4SaXizfQJdzJK1Z3Vs37MQ+mJE8kuW0HLvTZbmOAjAsUA\n",
       "AAApAZ9Yakf/AAA8zC5A5cGVU7ZHY+M8LRFpWEKQMABZSdFs2zXrM7mAIeAAAACKQZtbSeEPJlMF\n",
       "PC///oywAAB3+E6FzjovG1uM+AEtn8OTCF5iH7KIm0RKK0IhyOJxWdZHwgY5cTqiP3jJ+Xqexje3\n",
       "aEdRIZ/OMQZFddYrh+Gf8uJ2VJMPbvMA2mCTsVDPDk1eErVHvn90cBizXEIGBQ4evdXngUZifl8J\n",
       "drvcA0tSTRVbtR44MmU3AAAALAGfempH/wAAR2UYgkl10HI2il8t89PhfiIouFQUHus4QAGpQ/BF\n",
       "hJCygCGgAAAAXkGbfUnhDyZTBTwv//6MsAAAdI+itCSfp4SYblZnYN/mXMrcbdvgAH7fdYRIuyK6\n",
       "M6ItgeUEEAQ+GQtsRsHlD74bQ2KOb//j5StMc/cx8hLuMh8/gWnXfHE66QCaFtkAAAAqAZ+cakf/\n",
       "AAA7U0z+olMhshqHfZwAkNsbeS+L8SU1yAA2VIXJkX4pAAi5AAAAk0GbgEnhDyZTAhX//jhAAAHE\n",
       "saPlisj2gA7k7JDNpU0l37LXpGl8GaCpdi5J7/ZExXxtzL1H1VYXns+5s+CMpNVPP/bF3WoTHJBK\n",
       "0N/+DbEiaUbcKgFYFX0k8+NvLZZCPUJkFotwxImdvboaln7Q9NDcQubKM327OBJ5plxzRadkumFH\n",
       "RcAvszzgRmeV5T5wZyEIMAAAADJBn75FETwj/wAAKq/Kv5MlqPaLwLKbSKUS5M848QC8eQC/5sT8\n",
       "gArAj6zmjSluineZeAAAACcBn99qR/8AADzP3vX+9Ih2lpmus6dmlvDRYAPs97BXYSE4V+gACBkA\n",
       "AABkQZvDSahBaJlMCFf//jhAAAHOxyknfvWIe68ALcLZrXd82xYCbQtRQmBYOvfUOc3URtu//73e\n",
       "qETSjp6AvGfTdH8lT239b3zEEqFwtdnKcOqgbgykX6Buojz4n8djvk1XFRncqgAAAEFBn+FFESwj\n",
       "/wAAK0FMYZ0JxGI9i2SLDIN/s4Sy8e3q+6iGNtYm+ViNpKQVC+dVR4AAbzyPoRA0nLRcnWsZwddB\n",
       "pQAAADgBngJqR/8AADzMxCGV/cFdqQAW4qdqJMQ7E9d+T+ahN1xQHGsUKW6rlciq5TfJCIr0ADBA\n",
       "eBPGpgAAAEtBmgRJqEFsmUwIV//+OEAAAdH1GsTzhwrQxqTGgBC0CpsTjepfIsf9RylRgJQdqznU\n",
       "n+cCM6E51n10UAAWxOtHWaFciGq3vQAAyoEAAAApQZolSeEKUmUwIV/+OEAAAcb1IvN49/o+ow1e\n",
       "YTwQpI5Gg55Yq4AAGZEAAABkQZpGSeEOiZTAhX/+OEAAAKxFoS8rjzlzflCADnDI3CBUmDY24r8c\n",
       "Ev+9S2KnMTZ2c3tdeyfd1WgOuUpq2wbp+5cX68zX1iCTnyiFEs7KpIs4o1X8Ync4VQFp3cpq/Pbk\n",
       "H05+/QAAAFVBmmdJ4Q8mUwIV//44QAAArMPklFCh2gA19z9cFZvglC5MuvbWRy31Z/vTsquPgHQl\n",
       "vAJfSdCJh5m218wwhif67E3lZVl74vIhIBcVq31/lEFGmx/HAAAAckGaiEnhDyZTAhf//oywAAAs\n",
       "ur9VddedYzBd6XTMvUdNzsAABbDK5hWqkBg/ujuT9YFhzCLMjq3Q9mHmk7R0zVj0AJoXXvlm4W40\n",
       "wqSx2V8P2KSQcAv5HSjIY6rpJrfEgdwS6QscRObuvPy/uXue3ubQZgAAAKhBmqxJ4Q8mUwIV//44\n",
       "QAAArXrCtd6nKJHXXCEwx8AWHaYydjWNLodxmQlV0YGiEcxVkn3VooZ4S11f96mU2lP48jtPzm2M\n",
       "E/uDs1RQDQtoy//r0Y5z/tOwKFmSPVrAxRgPSSUI2mvwn7FF00hL5EA0+FUbmzryXsgdbWF7NO5q\n",
       "9u3n/jbYMG0HOWV/eJssJeIaunlVzJNY1bo2yyM9sRfbQJbrggAAgYAAAACUQZ7KRRE8I/8AACqv\n",
       "ydOD95Cq2akVHInphtjFpk1F1QnpA4AG1F0qxi0oOK09EtbRPa8yynh0acTob4/rfTnfPeejVlH/\n",
       "UB9kuX7FdVe8+tnyuOCcimpYl8eptcAyTOdp8YfTes3PJLmZPyP4/6BCPq468ubk+A8GKGGOOqvi\n",
       "07oeR+jciZCgAP1LPtQLiB69I1RbEQAAAEkBnul0R/8AABaxcv1hwAsPQvBiXaLx5fZopmJ8sk95\n",
       "QQR1Z8s6qGkN9EZj5fsgB3L8kC0ATcw+lI65GlBQudRoaNlYzgAv1P6ZAAAAYQGe62pH/wAAB/Xy\n",
       "YBq9imZnte9jPPc/K49bA5cTdI4Zy8TfyfoS0pgNYRwExmtqIrBskwajEemlhiFxcm2O6KDMHtdk\n",
       "XGLMyXiKyBol7DXx/IcFVLUBxiLjev4ACp6Pw8AAAADbQZruSahBaJlMFPCv/jhAAAAWshEKADfM\n",
       "ALWjqNSNCCVgyzmbzCxWqI0xHd+C95qyIR2yekZC3nSWFcOp30Lwwd5rprw7B4EYsDpOmsKkk25n\n",
       "gZptCINAO6ui5MgbgtDVx8dD4blYPUcZbkwePZuG2B0dJOTPyZNdMQvo7aXq1kzzuy32fVzKM0js\n",
       "yQqZSIsTRdsyVBOHdGKOJk4ujAbMHjTT8/5VRbUD3mRFTCZSScSR+DcgU9BH/pyWY6C/Ps9f1f2R\n",
       "kVn99zpdqpXsUGwxdkPg2g0N/gIAABdxAAAAUAGfDWpH/wAAQ4+OlXqXKezYge5ID5P2P0vAAV2X\n",
       "4N2x9ZmhRWgBATmf8GBHG9HvRr6grnshM3qQ9EBbUnklpIMSA6T1IAB0AC+cBU1cLAX1AAAAXkGb\n",
       "D0nhClJlMCFf/jhAAAAWqJPD2bABcwUiUJjzT0Cc8iJjmi57/1fbm0YJem3VQ13weg3a7uNQDAj4\n",
       "o0VmAyXcnD6NvGymvd1enOE+X7BmBkNKsm1LhZtJFAAAc0EAAAB7QZsxSeEOiZTBTRMI//3hAAAD\n",
       "AFj5N5pgFBZ744ChgRaJkm45zkOeZcK26ozBAUbXWdfy26UNdSU8YD3xlMf2zAAPx2Z2H3OXVtIP\n",
       "ZLgwshZQd46AJQqkNQzZc9lnJeWtZllGJAzhwXHzqRBMBEov/qvmV5FsNCrP1cc4AAAAPgGfUGpH\n",
       "/wAAAwMR4xS1gFJLbz7Rmi52sgYgqi2+WYOBWFclMJS7RlWiV941zDblrnMEDABvgBvAuwYazAEX\n",
       "AAAAlUGbVEnhDyZTAhH//eEAAAMATbompo/Ic4qAHDdvPTAxFSfznDz+Yx26YHWlZW0DosKhEepa\n",
       "zSWDP+M971TPEch6VtXAh64e/vxHKrN0V7NO02g6p2GdFSf7w+DtKvo9XRYkmvc3gQpJBvJKGfo7\n",
       "eK/VjItbKB2YGo2nd9WnD7sRVIRDzRonfJwkiyBKFhvBoZodU09/AAAAQkGfckURPCP/AAAqr8m8\n",
       "6G89w5JVJilKykQtUWTvF65wA+Sof6pkTFuKYg2POx2ypxk4UQHEcAC7/ZjIhAhqAY0n4wAAADYB\n",
       "n5NqR/8AAAMC+/BpyyOuAVGYDhKFeWXOUlh8PIEJO0ae/qeakFG7gPIAAnfWVyiQADs5Q/wAAAB6\n",
       "QZuWSahBaJlMFPCv/jhAAAATTzRvFdU45rOAFe6klhLrFe91HTYvbQdg7xYA6VQ5XufsZ0krYF0G\n",
       "EhR1Zc7Ql8qQxgPaWutxqkULUE4qAMn5CLwo9+zrtg5TxRqUEFym5qGlRtFW45X3t5RP0e8WGjfR\n",
       "diP2Fw9lhsEAAABPAZ+1akf/AABDj43+itN1YT+GACdvAL8S3AjEW0TtiryqPjGCSQ4PSXtEScUj\n",
       "DpH6YyvBYDwa+6DAAFFHgdf5/MNPxgA6COPB30kFCoBsQAAAAH9Bm7lJ4QpSZTAhH/3hAAADAEmb\n",
       "vFpwxWMAI8rmPgAxPFjVGroAouZdnEeIDD3ebG8Za8IMxdYXWwHyXEx40T7L8kelhXh9zsIGKKWz\n",
       "PCGT49Hecue7KdMKiYLZsi6DOD4yxNoTd3T9nxNOgprbbQqGzKjsKevNdXZuh5alMk7hAAAAO0Gf\n",
       "10U0TCP/AAArPU1mrEeyr8wAIDGRaAF/5l6VHgzofLV0jzEx29f1WKl3ABWL8g5T7FvXcNVQ0a2B\n",
       "AAAAMgGf+GpH/wAAAwLpnVsBFuir4mwQ6V1AWAAugQf/Kq+v+vWaC7v4Fg+lsAOzBcgG1oqYAAAA\n",
       "UEGb+0moQWiZTBTwr/44QAAB5/Ui61fRPhDwttCoAV4/hgr0eE7d5YtdM/LncuHlBlVBJJ7fUS9v\n",
       "PpcCKRK5EHg/cI3kDXfCtbJQD7JPABxxAAAALwGeGmpH/wAAQ4+u8gRYL74PuPmAAlRjiRMQEO6Q\n",
       "TIxsISOvoAAcM9RVhm/uwB6wAAAAaEGaHUnhClJlMFLCv/44QAAAE085wvw9ACUzPmrgObW4c8DL\n",
       "JsxusEaowzLo1tOwmIVAGcYjk3mVTy0mv5LSgBWtG3o6NwNp/WSI3EQ1dfN+oTplE2jjpis4GCIa\n",
       "PDRWtZ93NuMbjh+BAAAASAGePGpH/wAAAwKOKn20eoI325ECvmh+SgXS7jXAAA/c1I1LgZEMlzXD\n",
       "XzVLYwIeaLPwXtVH/ECtDB6k2IFDoKu/hcSNnuAEPQAAAIZBmj9J4Q6JlMFEwn/98QAAAwAvpQZh\n",
       "OVaAQH6mlUf5wPB1oAW8kvp2N346Ef6eVUfzpMzb0ji5sa7CcthQDCtvkDvituRtaEbsW7FO0vfG\n",
       "E1qlRQeWGAgFwrWZw4jfnOcRWly+rdfWD5EMhDOEjqyC4PlseN+YaH/srgVP11J1v9drWqqRQAAA\n",
       "ADYBnl5qR/8AAAMCoZgNza4SEGRSGlyAAlEkDFUbTLh8jvPdiF+3xGtPkCnpXX2WP3dZNSlgF/AA\n",
       "AABfQZpBSeEPJlMFPH/8hAAAAwEu51h4aOdi3CA0IPQgBLVhs3127c5Xj997qi9AikiBVAW0cytZ\n",
       "ZURSeSrwEMa2GQc24ioiXAwB61n31s/UPcct1G2ydq4M207FBT13ObsAAAAsAZ5gakf/AAADAo6Y\n",
       "CnP8tmwoMV8NlLfch3cL5+jrlcYDLcwvE8IUjuy4ChgAAABeQZpiSeEPJlMCP//8hAAAAwBuP5HB\n",
       "BxpG4nPPADcs3KjZaKdFaVC7X2tT0vHQH3tJ4pb5zK+jUgMUwt9RHOSjBmyjMkavxEEOOKqJ5Yyg\n",
       "iL4KAG0Z7TNOGfwFKnaQuQAAAGNBmoNJ4Q8mUwIX//6MsAAAAwHf9bP2aiwu4YBKObYCCY8Kxly5\n",
       "g7QIC/3UOi/8gzbjhp6XB6NWdI6qf6HcSvm5QIQHMa+9yBYPKvRClRSb3dZbxJWeU4eAKvb1U4HF\n",
       "Xmjh4sAAAACTQZqnSeEPJlMCFf/+OEAAAAcb1IvP/hmns+fyCtDKS92d/I/ThTM/Mo2l9qAXKwhY\n",
       "3Py/wfw7gJUQiIpxGquM8xwLwPjmP8Ql6pWJnxZt995faJy3+4CcMxeeDeDcLrQHpAh+J/ulb+z2\n",
       "4gj+pP/PCcqNECFqL5llMeQcJRYBQjdPVvEkwM+Q/VLkyskDU7BQAGNBAAAAlkGexUURPCP/AAAq\n",
       "r8m8zF4EFCbXzOfUt2x6pbPhWE8amXsvLCGoRAz/+91Dj+xg/GIGp+vQxSry4GK2eXloRHqGyFch\n",
       "9OY+TQHSCpDaGyxvpcz5fnP0VA/aStW2yPCJ5P74VRCQAXT0iOhhcx1OzQstc9mE279F17HXDM+L\n",
       "+Nob78iyN1BP470AXySEahpe2PrsESKzUQAAAF4BnuR0R/8AAAMC6C5OZ2nOBHFQAAAsQm+ugdi9\n",
       "7kXieJjPsi1AD95Z4v2OX+z6+a+uNoi+Bw/Yloth8QzFYi2zBTWKzYwVepcX0UZuCMvDnfMcOv2l\n",
       "nrDALGHwgS7XAAAAfwGe5mpH/wAAAwLpmpKkLpJB98zLsHHHkLogAEqENJcPmDgrI67I21fV7a/w\n",
       "xsuEngqXMpQVn6Ptyk0UInRT1Fr5uzTJ7GZxVApkwVXu31ktgInPjVJ7s5LnnfPMCiP28vK9hnOS\n",
       "kfr3mfgq7QFKARA2MlbfCZFoAyAZsK2sIh8AAACfQZroSahBaJlMCFf//jhAAAADAqPJ9oHqX812\n",
       "aWSzi72UAITDJiDU0o649Zl8OmhftYY3uEEVekMQlyt0O87/gpvRGKJgG76zP1xBqSylpRRua8OS\n",
       "98Nxyia3+0HN5Nsq13GkkXJ0+7HVzgT7FauotEp7rzVANfZxzQ2QPs4Tcw7x0GFrbAvOazC2EB+A\n",
       "p22o2Rvfls8p8/NavlEjAAY8AAAAg0GbCUnhClJlMCFf/jhAAAADAPKZlKI2gl5fLYAFXuJceM5q\n",
       "EAofZySuQJFkdKqHQH+bEkPWHnrot+IbGkfDGBeaW65+7aP1q10LWMwxsD768c7nJkGSgZrHA7Lg\n",
       "100/+S+CzwoHSOP1O7RjvZuDQr0Uubri2dtABQGrhdE99csTEDDQAAAAb0GbKknhDomUwIX//oyw\n",
       "AAADAD5dBuwRTLkHFSd2OwAgQ7Gym2w8RFPtgNpfy+p1XbMd49K5q3MCwL4/WTZqsX9133wx+FLL\n",
       "j8OMlMwqpXIMZ6ct/+GFPz0VYL3OV6RajqP0LxG6fKjfGxRQkK153QAAAHtBm0xJ4Q8mUwURPC//\n",
       "/oywAAADAD68J05p63paBPjD4q0kALqGmSHxmab5nZ7G0fYGrYK712KMrOvPIVn4EB1CmTFdCyDK\n",
       "mfvOeDxOoMnIuexVKdS+Q3cesdVrmmEixyHpXagJYFAaVibSOoOjT/k7BHYlIMOdz9+/pmAAAAA4\n",
       "AZ9rakf/AAADAB++FEAoz5PER1FEcznVkMgMOhs+4JNGmqXkLdRy3Xt5AWOgrNJNzb4kixLSwfMA\n",
       "AAC/QZtvSeEPJlMCFf/+OEAAAAMA0+/9AypIntskQ5oAHBruGma1Yenuj5cN2M6gobJZoElcgYwn\n",
       "sQzHtFiIvajB66T+IEZYD5Vctcl4BDP/RXvOndKIkByrGywLDKmmlb3LEC9xBb/Pg04NJhykBWnG\n",
       "D+QMKld3ieGzyOgMrYHdvQ0J3zPRT5W9gy0y9O4YEyFa+MESG3JK/NfEIoo6Hk/+si9uM8tXAvP0\n",
       "Dt3gfITyH8xb/5RV2SDvo3GYYbyrw3kAAABDQZ+NRRE8I/8AACqvybzMXf1FUG2f+HB/0IACCuXr\n",
       "CsoLUHgbHzzkKXQ6/FNFJpgPyXIqMgiuQUMHEJF69slUjbNt5QAAAC0Bn65qR/8AAAMC6Zp+aT6J\n",
       "zvdKYAHgFbyhdxVMSqQjlpcf7c6QDHlQCMwrybkAAABtQZuxSahBaJlMFPCv/jhAAAADAM2cwDFJ\n",
       "gBbx0VIX1iGLwf5xjvHhXcqzUBxtD3PLv/XW9tAjPsztnCB2jxYQ/UmZvIlHSQxarY/UgEbvjPk2\n",
       "ABSlt/Azu3ia4Ix22afsjGXqSrzrKwfLVey/gAAAADcBn9BqR/8AAEOPjf6Knzmd7TvYZeAATFli\n",
       "vuykvgBGe4AxLquTHHgRoGXZRBv9JS6btcgioLOAAAAAZkGb0knhClJlMCFf/jhAAAADAM21g0AJ\n",
       "atW71ZzaJLgnSsrrmEkUTNusItnJ2irBl+hVzcxVT/iNDWOe0gsRgWZ+E+d44qzbU53tVNsoQVwP\n",
       "7JWOHyXrI9kFyXozwb3ZL/0ubK+nwQAAAEVBm/RJ4Q6JlMFNEwr//jhAAAADAB8t/5xcMcA+UswI\n",
       "tzULDcThcH3mRYAWiSmDsx4vDL8JZCIpA11saDnBWg7+hcFLhcwAAAAgAZ4Takf/AAADAAQWN4Kn\n",
       "OvMAI9CuD9TWwpQ45cc6j8wAAABOQZoVSeEPJlMCFf/+OEAAAAMAzaAGtJMAJq88btLv3dR+logX\n",
       "Xc1SeLKt2miS1lwrHfz2FyHh2Ow/vQhd00WwYhjben5WVO5w8Om1wEjBAAAAREGaNknhDyZTAhX/\n",
       "/jhAAAADAM2i6xM+zMO0rorFIQYsTXPk+gAJRk1G2VVKo5pXy4APnkJoFLDSQMzk/f0wrwnV4+Ag\n",
       "AAAAV0GaV0nhDyZTAhX//jhAAAADANLLGHl3iJH0ACdV8PRJPtB8brBQ8R/UjJrxviL7DUEXbNrn\n",
       "EcPNQxEafNGNEPM2S0WxKH/1/K4UbE4ENAXAAw+vCtF7zwAAAExBmnhJ4Q8mUwIV//44QAAAAwDS\n",
       "oASMBrZuMNODY9Er8Iifwq981vzL+lI0zIAR+H9K9oX3iMJVqi+FG/CUPlZYYx9ShRtCO5VDsdgh\n",
       "AAAAREGamknhDyZTBRE8K//+OEAAAAMA0p6/y7YbUViJvXsERNsE/r1D84x+j2sSmO2so1TI4cnt\n",
       "zTw//NHxHLZxDpPkU++AAAAALgGeuWpH/wAAAwAbm9YEQUrT9/5TMhw8/3Qs80BE1+iUQZRs5AdR\n",
       "qt5101FdYYUAAABNQZq7SeEPJlMCF//+jLAAAAMANp62eQ2oDbxpgFJNpGiOMXSjHoq3y9pHdRVM\n",
       "j4en0qLsa5DVLrQd8r+A9rP0xVHuIy/wU9EQIQ5IChgAAABSQZrcSeEPJlMCF//+jLAAAAMAFAqN\n",
       "I31/9GtLawAZS8NYWmviFXOd8GCoqWw4mI6e+dPzzp1NasAXyAwy3+cEp4PZrvaJt+uq2Y79CrXL\n",
       "iC3owQAAAJpBmuBJ4Q8mUwIX//6MsAAAAwAUL3M9TncECBf5pGR4jkqY7O+5fCNgAXBf/B7G/Nkk\n",
       "TQZ7OhPk+oW6ewwmymREOwrb+erqDbh1UAiS9DjzV/N7FyPi+5iYT8fsL2iauk604hIfmWO1sSnT\n",
       "xp4HGbDOH3zZ1N8ZGcs4UDTF2gzzenmZbpwQuG//SCaJjbmjrzSz/2Bp0KCStATtAAAAcUGfHkUR\n",
       "PCP/AAAqr8m8zF38tnWueERwB0Gv8dZ/XwgsEyfBrStSB+KwEj79TABOZw/Yit47dncMNN+NGLlG\n",
       "yPxlzYThTFE4o2R1v02SyXkZUZzKMyCseSVasWY/LZ2yOZyOdfveeQvT713J7OjlduSAAAAALQGf\n",
       "PXRH/wAAAwLoLe1H45ZV4shumVc8dfEN7ZAudxPFoI7H6c1acL248y+AqAAAAJgBnz9qR/8AAAMC\n",
       "6Zp4c4vlI3uIjqvCfUAJYDS687aF36EsAyQkO4JqXACDlNs8+br2CzMHYA30z/QhEJygtyZiFioH\n",
       "ojpeTW1z6NfffFbDR6jOvCXXsO7Dutah65Ve7pTJ47spj4ASY0BHrLRAobn2HZvFTYrSBQ0N6jAJ\n",
       "hBB0LdLBaxX1Uf3XT+lg9klatKWUCxvVP568PQAAAOZBmyRJqEFomUwIV//+OEAAAAMAG79SJa2D\n",
       "ne8CFEpiGFQtLiwIzAyJTnkcFuANldg4wRc8sRwuaJvgA8JIcsyy4yb8tXlUtvO07DI7V8qg9OIA\n",
       "C7K3n+LPnWfLWiTosG9dM1xvBOrE9lFhe4gKRpzlEORcFgPX0qGdLsG9fEJ6PIpDPpPdeJyDGWK0\n",
       "x0SAiIFGM8cE+bFOg5y7TeefnlFJSWtn8w6XUkVBE19jXujSERh+Pgw0l2RiRqIkP+TvxdTOA2eT\n",
       "a5smrMBM2yP62nqK9wPx3bipTJoR+bLhLwInzCo3KCAh4AAAAJ1Bn0JFESwj/wAAK0E/C0JOTOz9\n",
       "wV/eONG+tzudcRiS+WQBENbh+9qJCSSOqeUCNvTV5FHZNl7x1QhQ8j7KEowmeNm40HYwNctHfaxI\n",
       "lywBIrvHJkmNUTI2grm7T9iS85xvvEE65y1lqOVPk8C4FhDQwH2cq33MIU43WGmi5uDIwhmO1FQl\n",
       "Wdf4EWDZpwWyEVUwBg3CseomqQp2mEPBAAAAmwGfYXRH/wAAAwLoLeqWxW9sD+1ACJbvW1t0Cccr\n",
       "u5PCFa18jHdSAp2+QqJg7/1DfYDpTfcMlpf9bmMCQPwSYKwB7P2Cqdc7GvppEBpSouOeOM7/cC5v\n",
       "kSjy+BfSgDWNp3qjfzpc8LJ7ZGrlF14flSdXqq6bIwgmKmdFROayrZ69ylpXYnzKXTFvHoSU9moc\n",
       "ICquqvBa5cRNblfSAAAASAGfY2pH/wAAAwLpmnZHH3/D2mB1gToW5a0UVE/gAexSxrUvidRIEYDO\n",
       "LUCTVh+KVNsqX3+I8qqaApixg49lRMU3wEwHgTDugQAAAHZBm2VJqEFsmUwIX//+jLAAAAMAArdK\n",
       "kcagQA+3QMSJChpAyC/j11SntjrHf2V/6XCQfCvXCMTcgHJC9Gh2WaXMAMhji0bHSvXMOPLlR19p\n",
       "E/Q4zStp89q2dfp1ZyBgz5YnKdmLXpD23G+DY6kQZTr0VPR0YBWhAAAAgEGbh0nhClJlMFFSwv/+\n",
       "jLAAAAMAArvMuXhue+MIVdEP2nvvN1BnwAXUBXba6HdzZO9riCNxxPSW8HzJHH6CDAK8AokMk4n9\n",
       "6FamDFrfmwneFk0pzwdtX3hF9ca7AvkcQLvEew01Ogdpv9tjCq41qHPoypCWTAadnrwTsEb7Qhi7\n",
       "AAAAMwGfpmpH/wAAAwABYpExPM1PmQlMPv1C/i+TiDgAmgQk6bdaQH16DHmJ6MRozJvzhwmBnwAA\n",
       "AKtBm6pJ4Q6JlMCFf/44QAAAAwAIp6YC3fEAQT9LQhGAbu8qgRLKJMWRbFGgIqqHLRchtjGTv2jD\n",
       "76e5BwP/+gkp5yPvnC5m4GNeCwRyrkYAr/OTI7ZvFkTXuSOykE7npWNyMW/QSGKoAsAnehFE3dck\n",
       "ReZsxyGZ88zx3HsQfM3HjBTS7hLp9rNbnhiFmVUVSsh6JL6gS14IMRQVcLY4bc4bC6TSwev/IUOW\n",
       "nvAAAAA/QZ/IRRU8I/8AACqvybzMXfxprIfD9uQAIcKcxHU5OivzhZAtFRNcVFTykHaE+fTYgSeC\n",
       "VPRc9Mneev3Nh/kQAAAANwGf6WpH/wAAAwLpmnVkYrBu/CtQgBbKp6QmYLNWaGFauiWjDsBB/5GJ\n",
       "fUh/sVldW3cOi6Jw9IEAAABrQZvsSahBaJlMFPCv/jhAAAADAAipvx86Uz7oYUrsAAJaegVWfpGu\n",
       "S3rMNUFlkr6C5xwo+6j3/PhzLXIHYlJDukUDPiznEYHxMtb13mouOSis/dZXJUAmsBK3Ve0ctAkY\n",
       "HfVyE/mKfH5QQ8AAAAA0AZ4Lakf/AABDj43+ip6VmeNZGGEuywNACauZFfpf8aODy/VdR9YPsID8\n",
       "kl3UIDfaPT2hiwAAAGJBmg5J4QpSZTBSwr/+OEAAAAMACGWQXEqzxykgACTpQb/BnwalN7X7K9PL\n",
       "UdRyC+qcMuf0hosAo72eNHGCCjpPJOg6I80VZL5UZkTL6P2VyfzEmoRP71RWsqVV32mZOcJQoQAA\n",
       "ACYBni1qR/8AAAMAAyXj8ZOu4T9frDqvuxNs8C/cqb65JrkzurCBWwAAAGFBmjBJ4Q6JlMFEwr/+\n",
       "OEAAAAMACKe0aLVa6yH8OH7/EAJD0IuntnTEfkU9H1wi/S/lQ77IITkitfAnd+0KEjDX5zJqHEVV\n",
       "j4IlQVbM7Y1Lv32+LSGtWfVL7wb3aQv4KujhAAAAMAGeT2pH/wAAAwABJXLSRVoAPT+/0MgLlvxM\n",
       "HBXrJLnoF4w3S9jEVCB1XA1Sl1ITFgAAAGBBmlFJ4Q8mUwIV//44QAAAAwAX/f+lr2m0SDfZ2eG/\n",
       "AjgALC/2ua9Xbk+39QjAAUwpTh+aFKVeiXKi4/FQMGe4t/z+w+B99Wwyco9FKKRfPkE//YzU0vge\n",
       "DcXA9OWFJWAAAABlQZpzSeEPJlMFETwn//3xAAADAAAVlT0he6M8YWUL1+lj+cKjayUAJk7CHNVm\n",
       "qVHN3fnyL2eYjUpMmnKEwJBNybdv7EMg8MnpG1xAVh7jd9wIAcND8Xb8qh3ugY7N1n8WUDCC+m0A\n",
       "AAAtAZ6Sakf/AAADAAEl5bPJoAHajaCHAEKy+eTX33TUCXzlWB2/ospfdVHk2EhAAAAAPEGalEnh\n",
       "DyZTAhH//eEAAAMAACKaAzDtydhtOGfQVTaqKslGfB03aMNf9kN7ebjE9aSPH8QtS1CNGjyhaAAA\n",
       "ADpBmrVJ4Q8mUwI///yEAAADAACGjaS7rFcHm9EFVAN9ZqA0BCwpJ1nqNOPoWDe3zSDrXtoUFG5I\n",
       "vPrhAAAJEm1vb3YAAABsbXZoZAAAAAAAAAAAAAAAAAAAA+gAAAu4AAEAAAEAAAAAAAAAAAAAAAAB\n",
       "AAAAAAAAAAAAAAAAAAAAAQAAAAAAAAAAAAAAAAAAQAAAAAAAAAAAAAAAAAAAAAAAAAAAAAAAAAAA\n",
       "AAAAAAIAAAg8dHJhawAAAFx0a2hkAAAAAwAAAAAAAAAAAAAAAQAAAAAAAAu4AAAAAAAAAAAAAAAA\n",
       "AAAAAAABAAAAAAAAAAAAAAAAAAAAAQAAAAAAAAAAAAAAAAAAQAAAAAKAAAAB4AAAAAAAJGVkdHMA\n",
       "AAAcZWxzdAAAAAAAAAABAAALuAAAAgAAAQAAAAAHtG1kaWEAAAAgbWRoZAAAAAAAAAAAAAAAAAAA\n",
       "MgAAAJYAVcQAAAAAAC1oZGxyAAAAAAAAAAB2aWRlAAAAAAAAAAAAAAAAVmlkZW9IYW5kbGVyAAAA\n",
       "B19taW5mAAAAFHZtaGQAAAABAAAAAAAAAAAAAAAkZGluZgAAABxkcmVmAAAAAAAAAAEAAAAMdXJs\n",
       "IAAAAAEAAAcfc3RibAAAALdzdHNkAAAAAAAAAAEAAACnYXZjMQAAAAAAAAABAAAAAAAAAAAAAAAA\n",
       "AAAAAAKAAeAASAAAAEgAAAAAAAAAAQAAAAAAAAAAAAAAAAAAAAAAAAAAAAAAAAAAAAAAAAAAABj/\n",
       "/wAAADVhdmNDAWQAH//hABhnZAAfrNlAoD2hAAADAAEAAAMAZA8YMZYBAAZo6+PLIsD9+PgAAAAA\n",
       "HHV1aWRraEDyXyRPxbo5pRvPAyPzAAAAAAAAABhzdHRzAAAAAAAAAAEAAACWAAABAAAAABRzdHNz\n",
       "AAAAAAAAAAEAAAABAAADmGN0dHMAAAAAAAAAcQAAAAIAAAIAAAAAAQAABAAAAAACAAABAAAAAAEA\n",
       "AAIAAAAAAQAAAwAAAAABAAABAAAAAAEAAAMAAAAAAQAAAQAAAAABAAADAAAAAAEAAAEAAAAAAQAA\n",
       "AwAAAAABAAABAAAAAAYAAAIAAAAAAQAAAwAAAAABAAABAAAAAAEAAAQAAAAAAgAAAQAAAAADAAAC\n",
       "AAAAAAEAAAMAAAAAAQAAAQAAAAABAAADAAAAAAEAAAEAAAAAAQAABAAAAAACAAABAAAAAAEAAAMA\n",
       "AAAAAQAAAQAAAAABAAADAAAAAAEAAAEAAAAAAQAAAgAAAAABAAADAAAAAAEAAAEAAAAABQAAAgAA\n",
       "AAABAAAEAAAAAAIAAAEAAAAABAAAAgAAAAABAAADAAAAAAEAAAEAAAAAAQAAAwAAAAABAAABAAAA\n",
       "AAEAAAMAAAAAAQAAAQAAAAABAAADAAAAAAEAAAEAAAAAAQAABAAAAAACAAABAAAAAAEAAAQAAAAA\n",
       "AgAAAQAAAAAFAAACAAAAAAEAAAUAAAAAAQAAAgAAAAABAAAAAAAAAAEAAAEAAAAAAQAAAwAAAAAB\n",
       "AAABAAAAAAEAAAIAAAAAAQAAAwAAAAABAAABAAAAAAEAAAQAAAAAAgAAAQAAAAABAAADAAAAAAEA\n",
       "AAEAAAAAAQAABAAAAAACAAABAAAAAAEAAAMAAAAAAQAAAQAAAAABAAADAAAAAAEAAAEAAAAAAQAA\n",
       "AwAAAAABAAABAAAAAAEAAAMAAAAAAQAAAQAAAAACAAACAAAAAAEAAAUAAAAAAQAAAgAAAAABAAAA\n",
       "AAAAAAEAAAEAAAAAAwAAAgAAAAABAAADAAAAAAEAAAEAAAAAAQAABAAAAAACAAABAAAAAAEAAAMA\n",
       "AAAAAQAAAQAAAAABAAACAAAAAAEAAAMAAAAAAQAAAQAAAAAEAAACAAAAAAEAAAMAAAAAAQAAAQAA\n",
       "AAACAAACAAAAAAEAAAUAAAAAAQAAAgAAAAABAAAAAAAAAAEAAAEAAAAAAQAABQAAAAABAAACAAAA\n",
       "AAEAAAAAAAAAAQAAAQAAAAABAAACAAAAAAEAAAMAAAAAAQAAAQAAAAABAAAEAAAAAAIAAAEAAAAA\n",
       "AQAAAwAAAAABAAABAAAAAAEAAAMAAAAAAQAAAQAAAAABAAADAAAAAAEAAAEAAAAAAQAAAgAAAAAB\n",
       "AAADAAAAAAEAAAEAAAAAAgAAAgAAAAAcc3RzYwAAAAAAAAABAAAAAQAAAJYAAAABAAACbHN0c3oA\n",
       "AAAAAAAAAAAAAJYAAA7iAAAASwAAAIcAAAAtAAAAMAAAAGsAAABuAAAATwAAAF8AAAA3AAAAcQAA\n",
       "ACwAAABNAAAAKAAAADIAAAB2AAAAQQAAAE8AAABFAAAAVgAAAFIAAABFAAAA3QAAAHUAAAAsAAAA\n",
       "aQAAAEoAAABEAAAATgAAAC0AAABjAAAAPgAAAF0AAABDAAAAJAAAAHMAAAAyAAAAhgAAAEcAAABh\n",
       "AAAARgAAADUAAABOAAAAXwAAAFAAAAB3AAAARgAAAKAAAABiAAAAYAAAAHUAAACEAAAAcwAAAFcA\n",
       "AACjAAAANQAAAHQAAAAtAAAAjgAAADAAAABiAAAALgAAAJcAAAA2AAAAKwAAAGgAAABFAAAAPAAA\n",
       "AE8AAAAtAAAAaAAAAFkAAAB2AAAArAAAAJgAAABNAAAAZQAAAN8AAABUAAAAYgAAAH8AAABCAAAA\n",
       "mQAAAEYAAAA6AAAAfgAAAFMAAACDAAAAPwAAADYAAABUAAAAMwAAAGwAAABMAAAAigAAADoAAABj\n",
       "AAAAMAAAAGIAAABnAAAAlwAAAJoAAABiAAAAgwAAAKMAAACHAAAAcwAAAH8AAAA8AAAAwwAAAEcA\n",
       "AAAxAAAAcQAAADsAAABqAAAASQAAACQAAABSAAAASAAAAFsAAABQAAAASAAAADIAAABRAAAAVgAA\n",
       "AJ4AAAB1AAAAMQAAAJwAAADqAAAAoQAAAJ8AAABMAAAAegAAAIQAAAA3AAAArwAAAEMAAAA7AAAA\n",
       "bwAAADgAAABmAAAAKgAAAGUAAAA0AAAAZAAAAGkAAAAxAAAAQAAAAD4AAAAUc3RjbwAAAAAAAAAB\n",
       "AAAAMAAAAGJ1ZHRhAAAAWm1ldGEAAAAAAAAAIWhkbHIAAAAAAAAAAG1kaXJhcHBsAAAAAAAAAAAA\n",
       "AAAALWlsc3QAAAAlqXRvbwAAAB1kYXRhAAAAAQAAAABMYXZmNTkuMjcuMTAw\n",
       "\">\n",
       "  Your browser does not support the video tag.\n",
       "</video>"
      ],
      "text/plain": [
       "<IPython.core.display.HTML object>"
      ]
     },
     "execution_count": 26,
     "metadata": {},
     "output_type": "execute_result"
    },
    {
     "data": {
      "image/png": "[encoded data removed]",
      "text/plain": [
       "<Figure size 640x480 with 1 Axes>"
      ]
     },
     "metadata": {},
     "output_type": "display_data"
    }
   ],
   "source": [
    "fig, ax = plt.subplots()\n",
    "def animate(t):\n",
    "    ax.clear()\n",
    "    \n",
    "    ax.set_xlim((pos[:,:,0].min(),pos[:,:,0].max()))\n",
    "    ax.set_ylim((pos[:,:,1].min(),pos[:,:,1].max()))\n",
    "    \n",
    "    sc = 10\n",
    "    x = target_positions[NS+t*sc,:,0]\n",
    "    y = target_positions[NS+t*sc,:,1]\n",
    "    \n",
    "    ax.scatter(x,y)\n",
    "    tx = positions[t*sc,:,0]\n",
    "    ty = positions[t*sc,:,1]\n",
    "    \n",
    "    ax.scatter(tx,ty)\n",
    "anim = FuncAnimation(fig, animate, frames=150, interval=20)\n",
    "\n",
    "HTML(anim.to_html5_video())"
   ]
  },
  {
   "cell_type": "code",
   "execution_count": null,
   "id": "2d16ecb1-acd3-4c97-980e-fee4abf17ac6",
   "metadata": {},
   "outputs": [],
   "source": []
  }
 ],
 "metadata": {
  "kernelspec": {
   "display_name": "Python 3 (ipykernel)",
   "language": "python",
   "name": "python3"
  },
  "language_info": {
   "codemirror_mode": {
    "name": "ipython",
    "version": 3
   },
   "file_extension": ".py",
   "mimetype": "text/x-python",
   "name": "python",
   "nbconvert_exporter": "python",
   "pygments_lexer": "ipython3",
   "version": "3.8.16"
  }
 },
 "nbformat": 4,
 "nbformat_minor": 5
}
